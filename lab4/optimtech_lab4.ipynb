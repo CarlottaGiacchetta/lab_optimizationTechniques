{
 "cells": [
  {
   "cell_type": "markdown",
   "metadata": {
    "id": "NcLNO9YzF4rx"
   },
   "source": [
    "# Lab. 4: (Reduced) Variable Neighborhood Search\n",
    "\n",
    "## Introduction\n",
    "\n",
    "#### <u>The goal of this laboratory is to compare the behavior of VNS and RVNS on the knapsack 0/1 problem.</u>\n",
    "\n",
    "You'll have to implement two methods:\n",
    "\n",
    "- shake(x, k). Try different implementation of the shake method:\n",
    "  - flip k bits taken randomly in the binary vector x\n",
    "  - flip max(1, k-1) bits in the binary vector x\n",
    "  - flip at least k bits in the binary vector x\n",
    "  - ...\n",
    "- local_search(f, x)\n",
    "  - different implementations of VNS use as local search either FirstImprovement or BestImprovement algorithms\n",
    "\n",
    "---\n",
    "\n",
    "Getting started: The following cells contain the implementation of the methods that we will use throughout this lab, together with utilities.\n",
    "\n",
    "**The Knapsack 0/1 problem** is a combinatorial problem that works as follows.\n",
    "\n",
    "We have a bag with limited capacity L, and we have a set of items  $I=\\{i_1,...,i_N\\}$  Each  $i_j$  has a given volume $w_{ij}$ and a value $v_{ij}$. The goal of the optimization problem is to fill the bag with a combination of items $S$ such that the combination maximizes the total value contained by the bag while complaining with the constraint on the capacity.\n",
    "\n",
    "In this version of the knapsack problem we can either discard or carry (at most 1) item. Thus, the search space is $\\{0,1\\}^{|I|}$ .\n",
    "\n",
    "Since this is a maximization problem, we can turn it into a minimization problem by returning the opposite of the value. If a solution is not feasible (i.e., exceeds the maximum volume) the function will return a score of 0 (like an empty bag).\n",
    "\n",
    "\n",
    "Assume\n",
    "$$ N = \\text{number of items} $$\n",
    "$$ X = \\{x_1, x_2, \\dots, x_N\\} = \\text{set of items} $$\n",
    "$$ v_i = \\text{value of item } x_i $$\n",
    "$$ w_i = \\text{weight of item } x_i $$\n",
    "$$ W = \\text{maximum weight the knapsack can hold} $$\n",
    "\n",
    "\n",
    "Then the 0/1 knapsack problem can be formulated as follows:\n",
    "\n",
    "\\begin{equation*}\n",
    "  \\begin{array}{lr@{}c@{}r@{}l}\n",
    "    \\text{maximize }   &S = \\sum_{x_i \\in X} v_i x_i \\\\\n",
    "    \\text{subject to } & \\sum_{x_i \\in X} w_i x_i \\leq W \\\\\n",
    "                       & x_i \\in \\{0, 1\\} \\forall x_i \\in X \\\\\n",
    "  \\end{array}\n",
    "\\end{equation*}"
   ]
  },
  {
   "cell_type": "code",
   "execution_count": 35,
   "metadata": {
    "id": "RSueEGWVFdQ6"
   },
   "outputs": [],
   "source": [
    "from matplotlib import pyplot as plt\n",
    "class Knapsack_0_1:\n",
    "\n",
    "    def __init__(self):\n",
    "        self._items = [\n",
    "            {'name': 'apple', 'value': 1, 'volume': 2},\n",
    "            {'name': 'pear', 'value': 2, 'volume': 2},\n",
    "            {'name': 'banana', 'value': 2, 'volume': 2},\n",
    "            {'name': 'watermelon', 'value': 5, 'volume': 10},\n",
    "            {'name': 'orange', 'value': 3, 'volume': 2},\n",
    "            {'name': 'avocado', 'value': 3, 'volume': 2},\n",
    "            {'name': 'blueberry', 'value': 3, 'volume': 1},\n",
    "            {'name': 'coconut', 'value': 4, 'volume': 3},\n",
    "            {'name': 'cherry', 'value': 2, 'volume': 1},\n",
    "            {'name': 'apricot', 'value': 1, 'volume': 1},\n",
    "        ]\n",
    "        self._BAG_CAPACITY = 10\n",
    "        self.history = []\n",
    "        self.values = []\n",
    "\n",
    "    def _get_value(self, solution):\n",
    "        cur_cap = self._BAG_CAPACITY\n",
    "        cur_val = 0\n",
    "        for i, v in enumerate(solution):\n",
    "            if v == 1:\n",
    "                cur_val += self._items[i]['value']\n",
    "                cur_cap -= self._items[i]['volume']\n",
    "            if cur_cap < 0:\n",
    "                return 0\n",
    "        return -cur_val\n",
    "\n",
    "    def __call__(self, solution):\n",
    "        value = self._get_value(solution)\n",
    "        self.history.append(solution)\n",
    "        self.values.append(value)\n",
    "        return value\n",
    "\n",
    "    def trend(self):\n",
    "        plt.figure()\n",
    "        plt.plot(self.values)\n",
    "        plt.show()"
   ]
  },
  {
   "cell_type": "code",
   "execution_count": 36,
   "metadata": {
    "id": "d9Wyob0zHU8J"
   },
   "outputs": [],
   "source": [
    "import numpy as np\n",
    "from matplotlib import pyplot as plt\n",
    "from itertools import combinations\n",
    "import copy\n",
    "import random\n",
    "\n",
    "\n",
    "def shake(x, k):\n",
    "    \"\"\"\n",
    "    Implements the shaking step for the VNS algorithm. It generates a random x' contained in the neighborhood k of x\n",
    "\n",
    "    - x: starting point from which the neighborhood is created\n",
    "    - k: the neighborhood distance (1 for the nearest, 2 for a slightly bigger neighborhood, and so on)\n",
    "\n",
    "    Returns:\n",
    "    - The random x' sampled from the neighborhood\n",
    "    \"\"\"\n",
    "    print(x,k)\n",
    "    # To be implemented\n",
    "    # Must: use copy.deepcopy(x) to work on copies of x\n",
    "    xp = copy.deepcopy(x)\n",
    "    for i in range(k):\n",
    "        index = random.randint(0, len(x) - 1)\n",
    "        if xp[index] == 0:\n",
    "            xp[index] = 1\n",
    "        else:\n",
    "            xp[index] = 0\n",
    "            \n",
    "    print(xp)\n",
    "    return xp\n",
    "\n",
    "\n",
    "def move_or_not(f, x, xs, k):\n",
    "    if f(xs) < f(x):\n",
    "        x = xs\n",
    "        k = 1\n",
    "    else:\n",
    "        k += 1\n",
    "    return x, k\n",
    "\n",
    "def local_search(f, x, method):\n",
    "    \"\"\"\n",
    "    Implements the local search step for the VNS algorithm. It search for a better x' in the neighborhood\n",
    "\n",
    "    - f: function to minimize\n",
    "    - x: starting point of the local search\n",
    "\n",
    "    Returns:\n",
    "    - The improved x'\n",
    "    \"\"\"\n",
    "    # To be implemented\n",
    "    # Must: use copy.deepcopy(x) to work on copies of x\n",
    "    if method == 'BestImprovment':\n",
    "        xp = copy.deepcopy(x)\n",
    "        best_x = f(xp)\n",
    "    elif method == 'FirstImprovment':\n",
    "        print('ancora da imolemetare')\n",
    "    else:\n",
    "        print('non esiste questo metodo')\n",
    "\n",
    "\n",
    "    \n",
    "    return best_x\n",
    "\n",
    "\n",
    "def vns(f, x0, kmax):\n",
    "    \"\"\"\n",
    "    Seeks for the minimum of the function by means of the Variable Neighborhood\n",
    "    Search algorithm.\n",
    "\n",
    "    :f: the function to optimize\n",
    "    :x0: the initial point\n",
    "    :kmax: the max number of iterations for each neighborhood\n",
    "    \"\"\"\n",
    "    n = 0\n",
    "    x = np.array(x0, float)\n",
    "    best = x\n",
    "    bestval = f(x)\n",
    "    k = 0\n",
    "    method = 'BestImprovment'\n",
    "    while k < kmax:\n",
    "        xp = shake(x, k)\n",
    "        xs = local_search(f, xp, method)\n",
    "        x, k = move_or_not(f, x, xs, k)\n",
    "\n",
    "        # Store the best\n",
    "        curval = f(x)\n",
    "        if curval < bestval:\n",
    "            bestval = curval\n",
    "            best = x\n",
    "    return best\n",
    "\n",
    "\n",
    "def rvns(f, x0, kmax):\n",
    "    \"\"\"\n",
    "    Seeks for the minimum of the function by means of the Reduced Variable\n",
    "    Neighborhood Search algorithm.\n",
    "\n",
    "    :f: the function to optimize\n",
    "    :x0: the initial point\n",
    "    :kmax: the max number of iterations for each neighborhood\n",
    "    \"\"\"\n",
    "    n = 0\n",
    "    x = np.array(x0, float)\n",
    "    best = x\n",
    "    bestval = f(x)\n",
    "\n",
    "    k = 0\n",
    "    while k < kmax:\n",
    "        print(x)\n",
    "        xp = shake(x, k)\n",
    "        x, k = move_or_not(f, x, xp, k)\n",
    "    return best"
   ]
  },
  {
   "cell_type": "markdown",
   "metadata": {
    "id": "5AuK-3tLHdyD"
   },
   "source": [
    "# Variable Neighborhood Search\n",
    "---\n",
    "## Questions:\n",
    "- how does the starting point influence the search process?\n",
    "- how does the kmax parameter affect the quality of the result?\n",
    "- how does the generation of the neighborhood (for the shaking) affect:\n",
    "    - quality of the search?\n",
    "    - speed of the search?"
   ]
  },
  {
   "cell_type": "code",
   "execution_count": 37,
   "metadata": {
    "id": "lHnJ1aOIINAF"
   },
   "outputs": [
    {
     "name": "stdout",
     "output_type": "stream",
     "text": [
      "[0. 0. 0. 0. 0. 0. 0. 0. 0. 0.] 0\n",
      "[0. 0. 0. 0. 0. 0. 0. 0. 0. 0.]\n"
     ]
    },
    {
     "ename": "TypeError",
     "evalue": "'numpy.float64' object is not iterable",
     "output_type": "error",
     "traceback": [
      "\u001b[1;31m---------------------------------------------------------------------------\u001b[0m",
      "\u001b[1;31mTypeError\u001b[0m                                 Traceback (most recent call last)",
      "Cell \u001b[1;32mIn[37], line 2\u001b[0m\n\u001b[0;32m      1\u001b[0m func \u001b[38;5;241m=\u001b[39m Knapsack_0_1()\n\u001b[1;32m----> 2\u001b[0m \u001b[43mvns\u001b[49m\u001b[43m(\u001b[49m\u001b[43mfunc\u001b[49m\u001b[43m,\u001b[49m\u001b[43m \u001b[49m\u001b[43m[\u001b[49m\u001b[38;5;241;43m0\u001b[39;49m\u001b[43m]\u001b[49m\u001b[43m \u001b[49m\u001b[38;5;241;43m*\u001b[39;49m\u001b[43m \u001b[49m\u001b[38;5;28;43mlen\u001b[39;49m\u001b[43m(\u001b[49m\u001b[43mfunc\u001b[49m\u001b[38;5;241;43m.\u001b[39;49m\u001b[43m_items\u001b[49m\u001b[43m)\u001b[49m\u001b[43m,\u001b[49m\u001b[43m \u001b[49m\u001b[38;5;241;43m10\u001b[39;49m\u001b[43m)\u001b[49m\n\u001b[0;32m      3\u001b[0m func\u001b[38;5;241m.\u001b[39mtrend()\n",
      "Cell \u001b[1;32mIn[36], line 87\u001b[0m, in \u001b[0;36mvns\u001b[1;34m(f, x0, kmax)\u001b[0m\n\u001b[0;32m     85\u001b[0m \u001b[38;5;28;01mwhile\u001b[39;00m k \u001b[38;5;241m<\u001b[39m kmax:\n\u001b[0;32m     86\u001b[0m     xp \u001b[38;5;241m=\u001b[39m shake(x, k)\n\u001b[1;32m---> 87\u001b[0m     xs \u001b[38;5;241m=\u001b[39m \u001b[43mlocal_search\u001b[49m\u001b[43m(\u001b[49m\u001b[43mf\u001b[49m\u001b[43m,\u001b[49m\u001b[43m \u001b[49m\u001b[43mxp\u001b[49m\u001b[43m,\u001b[49m\u001b[43m \u001b[49m\u001b[43mmethod\u001b[49m\u001b[43m)\u001b[49m\n\u001b[0;32m     88\u001b[0m     x, k \u001b[38;5;241m=\u001b[39m move_or_not(f, x, xs, k)\n\u001b[0;32m     90\u001b[0m     \u001b[38;5;66;03m# Store the best\u001b[39;00m\n",
      "Cell \u001b[1;32mIn[36], line 57\u001b[0m, in \u001b[0;36mlocal_search\u001b[1;34m(f, x, method)\u001b[0m\n\u001b[0;32m     55\u001b[0m bestval \u001b[38;5;241m=\u001b[39m \u001b[38;5;241m1000000\u001b[39m\n\u001b[0;32m     56\u001b[0m \u001b[38;5;28;01mfor\u001b[39;00m i \u001b[38;5;129;01min\u001b[39;00m xp:\n\u001b[1;32m---> 57\u001b[0m     \u001b[38;5;28;01mif\u001b[39;00m \u001b[43mf\u001b[49m\u001b[43m(\u001b[49m\u001b[43mi\u001b[49m\u001b[43m)\u001b[49m\u001b[38;5;241m<\u001b[39mbestval:\n\u001b[0;32m     58\u001b[0m         bestval \u001b[38;5;241m=\u001b[39m f(i)\n\u001b[0;32m     59\u001b[0m         best_x \u001b[38;5;241m=\u001b[39m i\n",
      "Cell \u001b[1;32mIn[35], line 33\u001b[0m, in \u001b[0;36mKnapsack_0_1.__call__\u001b[1;34m(self, solution)\u001b[0m\n\u001b[0;32m     32\u001b[0m \u001b[38;5;28;01mdef\u001b[39;00m \u001b[38;5;21m__call__\u001b[39m(\u001b[38;5;28mself\u001b[39m, solution):\n\u001b[1;32m---> 33\u001b[0m     value \u001b[38;5;241m=\u001b[39m \u001b[38;5;28;43mself\u001b[39;49m\u001b[38;5;241;43m.\u001b[39;49m\u001b[43m_get_value\u001b[49m\u001b[43m(\u001b[49m\u001b[43msolution\u001b[49m\u001b[43m)\u001b[49m\n\u001b[0;32m     34\u001b[0m     \u001b[38;5;28mself\u001b[39m\u001b[38;5;241m.\u001b[39mhistory\u001b[38;5;241m.\u001b[39mappend(solution)\n\u001b[0;32m     35\u001b[0m     \u001b[38;5;28mself\u001b[39m\u001b[38;5;241m.\u001b[39mvalues\u001b[38;5;241m.\u001b[39mappend(value)\n",
      "Cell \u001b[1;32mIn[35], line 24\u001b[0m, in \u001b[0;36mKnapsack_0_1._get_value\u001b[1;34m(self, solution)\u001b[0m\n\u001b[0;32m     22\u001b[0m cur_cap \u001b[38;5;241m=\u001b[39m \u001b[38;5;28mself\u001b[39m\u001b[38;5;241m.\u001b[39m_BAG_CAPACITY\n\u001b[0;32m     23\u001b[0m cur_val \u001b[38;5;241m=\u001b[39m \u001b[38;5;241m0\u001b[39m\n\u001b[1;32m---> 24\u001b[0m \u001b[38;5;28;01mfor\u001b[39;00m i, v \u001b[38;5;129;01min\u001b[39;00m \u001b[38;5;28menumerate\u001b[39m(solution):\n\u001b[0;32m     25\u001b[0m     \u001b[38;5;28;01mif\u001b[39;00m v \u001b[38;5;241m==\u001b[39m \u001b[38;5;241m1\u001b[39m:\n\u001b[0;32m     26\u001b[0m         cur_val \u001b[38;5;241m+\u001b[39m\u001b[38;5;241m=\u001b[39m \u001b[38;5;28mself\u001b[39m\u001b[38;5;241m.\u001b[39m_items[i][\u001b[38;5;124m'\u001b[39m\u001b[38;5;124mvalue\u001b[39m\u001b[38;5;124m'\u001b[39m]\n",
      "\u001b[1;31mTypeError\u001b[0m: 'numpy.float64' object is not iterable"
     ]
    }
   ],
   "source": [
    "func = Knapsack_0_1()\n",
    "vns(func, [0] * len(func._items), 10)\n",
    "func.trend()"
   ]
  },
  {
   "cell_type": "markdown",
   "metadata": {
    "id": "CnGyxGU9HydJ"
   },
   "source": [
    "# Reduced Variable Neighborhood Search\n",
    "---\n",
    "## Questions:\n",
    "- how does the starting point influence the search process?\n",
    "- how does the kmax parameter affect the quality of the result?\n",
    "- how does the generation of the neighborhood affect:\n",
    "    - quality of the search?\n",
    "    - velocity of the search?\n",
    "- how does RVNS compare to VNS?"
   ]
  },
  {
   "cell_type": "code",
   "execution_count": null,
   "metadata": {
    "id": "ZkwVuR1mH1mL"
   },
   "outputs": [],
   "source": [
    "func = Knapsack_0_1()\n",
    "rvns(func, [0] * len(func._items), 10)\n",
    "func.trend()"
   ]
  },
  {
   "cell_type": "code",
   "execution_count": null,
   "metadata": {
    "id": "hzQLE2XuNJL_"
   },
   "outputs": [],
   "source": []
  }
 ],
 "metadata": {
  "colab": {
   "provenance": []
  },
  "kernelspec": {
   "display_name": "Python 3 (ipykernel)",
   "language": "python",
   "name": "python3"
  },
  "language_info": {
   "codemirror_mode": {
    "name": "ipython",
    "version": 3
   },
   "file_extension": ".py",
   "mimetype": "text/x-python",
   "name": "python",
   "nbconvert_exporter": "python",
   "pygments_lexer": "ipython3",
   "version": "3.11.7"
  }
 },
 "nbformat": 4,
 "nbformat_minor": 1
}
