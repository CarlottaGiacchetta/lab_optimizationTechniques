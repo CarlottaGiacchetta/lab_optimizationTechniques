{
 "cells": [
  {
   "cell_type": "markdown",
   "metadata": {
    "id": "8Vp0B6slOJhi"
   },
   "source": [
    "# Lab. 11: Integer Linear programming and Dinamic Programming\n",
    "\n",
    "## Introduction\n",
    "\n",
    "#### <u>In this lab, we will see Integer Linear programming and Dynamic programming (DP).</u>"
   ]
  },
  {
   "cell_type": "code",
   "execution_count": 306,
   "metadata": {
    "cellView": "form",
    "id": "77x74Nr5OFy1"
   },
   "outputs": [],
   "source": [
    "# @title Helper Functions\n",
    "\n",
    "!pip install -q pyscipopt\n",
    "!pip install -q scikit-optimize\n",
    "!pip install -q treed\n",
    "\n",
    "from pyscipopt import Model, Eventhdlr, SCIP_EVENTTYPE\n",
    "from pyscipopt import Model , quicksum\n",
    "import matplotlib.pyplot as plt\n",
    "from treed import TreeD\n",
    "import networkx as nx\n",
    "import seaborn as sns\n",
    "import numpy as np\n",
    "import pyscipopt\n",
    "import math\n",
    "import time\n",
    "import copy\n",
    "\n",
    "class LPstatEventhdlr(Eventhdlr):\n",
    "    \"\"\"PySCIPOpt Event handler to collect data on LP events.\"\"\"\n",
    "\n",
    "    transvars = {}\n",
    "\n",
    "    def collectNodeInfo(self, firstlp=True):\n",
    "        objval = self.model.getSolObjVal(None)\n",
    "\n",
    "        LPsol = {}\n",
    "        if self.transvars == {}:\n",
    "            self.transvars = self.model.getVars(transformed=True)\n",
    "        for var in self.transvars:\n",
    "            solval = self.model.getSolVal(None, var)\n",
    "            LPsol[var.name] = self.model.getSolVal(None, var)\n",
    "\n",
    "        # skip duplicate nodes\n",
    "        # if self.nodelist and LPsol == self.nodelist[-1].get(\"LPsol\"):\n",
    "        #     return\n",
    "        node = self.model.getCurrentNode()\n",
    "        if node.getNumber() != 1:\n",
    "            parentnode = node.getParent()\n",
    "            parent = parentnode.getNumber()\n",
    "        else:\n",
    "            parent = 1\n",
    "        depth = node.getDepth()\n",
    "        age = self.model.getNNodes()\n",
    "        condition = math.log10(self.model.getCondition())\n",
    "        iters = self.model.lpiGetIterations()\n",
    "        pb = self.model.getPrimalbound()\n",
    "        if pb >= self.model.infinity():\n",
    "            pb = None\n",
    "\n",
    "        nodedict = {\n",
    "            \"number\": node.getNumber(),\n",
    "            \"LPsol\": LPsol,\n",
    "            \"objval\": objval,\n",
    "            \"parent\": parent,\n",
    "            \"age\": age,\n",
    "            \"depth\": depth,\n",
    "            \"first\": firstlp,\n",
    "            \"condition\": condition,\n",
    "            \"iterations\": iters,\n",
    "            # \"variables\": self.model.getNVars(),\n",
    "            # \"constraints\": self.model.getNConss(),\n",
    "            \"rows\": self.model.getNLPRows(),\n",
    "            \"primalbound\": pb,\n",
    "            \"dualbound\": self.model.getDualbound(),\n",
    "            \"time\": self.model.getSolvingTime()\n",
    "        }\n",
    "\n",
    "        self.nodelist.append(nodedict)\n",
    "\n",
    "    def eventexec(self, event):\n",
    "\n",
    "        if event.getType() == SCIP_EVENTTYPE.FIRSTLPSOLVED:\n",
    "            self.collectNodeInfo(firstlp=True)\n",
    "        elif event.getType() == SCIP_EVENTTYPE.LPSOLVED:\n",
    "            self.collectNodeInfo(firstlp=False)\n",
    "        else:\n",
    "            print(\"unexpected event:\" + str(event))\n",
    "        return {}\n",
    "\n",
    "    def eventinit(self):\n",
    "        self.model.catchEvent(SCIP_EVENTTYPE.LPEVENT, self)\n",
    "\n",
    "def convertSolToDict(sol):\n",
    "    ssol = str(sol).replace('\\'', '').replace('t_', '')\n",
    "    items = ssol[1:-1].split(\", \")\n",
    "    res = {}\n",
    "    for item in items:\n",
    "        k = str(item.split(\":\")[0])\n",
    "        v = float(item.split(\":\")[1])\n",
    "        res[k] = v\n",
    "    return res\n",
    "\n",
    "\n",
    "#risolve già il problema per noi -> ciò che importa è la definizione del probelma\n",
    "def solve_model(model):\n",
    "    model.setPresolve(pyscipopt.SCIP_PARAMSETTING.OFF)\n",
    "    model.setHeuristics(pyscipopt.SCIP_PARAMSETTING.OFF)\n",
    "    model.disablePropagation()\n",
    "    #model.redirectOutput()\n",
    "    nodelist = []\n",
    "    eventhdlr = LPstatEventhdlr()\n",
    "    eventhdlr.nodelist = nodelist\n",
    "    model.includeEventhdlr(\n",
    "        eventhdlr, \"LPstat\", \"generate LP statistics after every LP event\"\n",
    "    )\n",
    "    model.optimize()\n",
    "    frontier_history = []\n",
    "    for nd in nodelist:\n",
    "        frontier_history.append((convertSolToDict(nd['LPsol']), nd['objval']))\n",
    "    best_sol = model.getBestSol()\n",
    "    best_val = model.getObjVal()\n",
    "    return convertSolToDict(best_sol), best_val, frontier_history"
   ]
  },
  {
   "cell_type": "markdown",
   "metadata": {
    "id": "wqgmYvMdbVgH"
   },
   "source": [
    "## Exercises\n",
    "\n",
    "For the Integer Linear Programming, you will proceed as in the previous lab, writing some models and solving the problem. For Dynamic Programming, we will ask you to solve the knapsack problem with DP."
   ]
  },
  {
   "cell_type": "markdown",
   "metadata": {
    "id": "8h6hRTplbbq6"
   },
   "source": [
    "### Example exercise"
   ]
  },
  {
   "cell_type": "markdown",
   "metadata": {
    "id": "vf8CaX_vbvva"
   },
   "source": [
    "Slack form:\n",
    "\n",
    "minimize  $2x_1 + x_2 − 2x_3$\n",
    "\n",
    "subject to\n",
    "\n",
    "> $0.7x_1 + 0.5x_2 +x_3 ≥ 1.8$\n",
    "\n",
    "> $x_i ∈ [0,1]\\ ∀ i$"
   ]
  },
  {
   "cell_type": "code",
   "execution_count": 307,
   "metadata": {
    "id": "X3yzk1iOQkNB"
   },
   "outputs": [
    {
     "name": "stdout",
     "output_type": "stream",
     "text": [
      "{'x_1': x_1, 'x_2': x_2, 'x_3': x_3}\n",
      "Best solution {'x_1': 1.0, 'x_2': 1.0, 'x_3': 1.0}\n",
      "Best value 1.0\n",
      "\n",
      "---Partial frontier history---\n",
      "\n",
      "solution: {'x_1': 0.42857142857142866, 'x_2': 1.0, 'x_3': 1.0} \t\tvalue: -0.14285714285714268\n",
      "solution: {'x_1': 1.0, 'x_2': 1.0, 'x_3': 1.0} \t\tvalue: 1.0\n"
     ]
    }
   ],
   "source": [
    "model = Model(\"\")\n",
    "\n",
    "# create three variables for x1, x2 and x3\n",
    "x = {f\"x_{i+1}\": model.addVar(vtype='i', name=f\"x_{i+1}\",lb=0,ub=1) for i in range(3)}\n",
    "print(x)\n",
    "# array for coefficient in constraint\n",
    "A = [0.7,0.5,1]\n",
    "\n",
    "# quick sum is used for creating summing the variables times their coefficients:\n",
    "# Ax >= b\n",
    "# where A = [0.7, 0.5, 1], x = [x1, x2, x3], b = [1.8]\n",
    "model.addCons(quicksum(A[i]*x[f\"x_{i+1}\"] for i in range(3))>=1.8)\n",
    "\n",
    "# set the objective minimize c'x\n",
    "# where c' indicates the array c = [2, 1, -2] transposed\n",
    "c = [2, 1, -2]\n",
    "model.setObjective(quicksum(c[i]*x[f\"x_{i+1}\"] for i in range(3)), \"minimize\")\n",
    "\n",
    "best_sol, best_val, partial_frontier_history = solve_model(model)\n",
    "\n",
    "print(\"Best solution\", best_sol)\n",
    "print(\"Best value\", best_val)\n",
    "print(\"\\n---Partial frontier history---\\n\")\n",
    "for hist in partial_frontier_history:\n",
    "  print(\"solution:\", hist[0], \"\\t\\tvalue:\", hist[1])"
   ]
  },
  {
   "cell_type": "markdown",
   "metadata": {
    "id": "kYUQTxa9btOG"
   },
   "source": [
    "### Exercise 1/3: The N-queens Problem | ILP"
   ]
  },
  {
   "cell_type": "markdown",
   "metadata": {
    "id": "Ls_gggc7b2yT"
   },
   "source": [
    "\n",
    "The N queens puzzle is the problem of placing N chess queens on an $N×N (𝑁≥4)$ chessboard so that no two queens threaten each other; thus, a solution requires that no two queens share the same row, column, or diagonal. Try different values of $𝑁$ and shows how the problem complexity increases.\n",
    "\n",
    "---\n",
    "\n",
    "#### **HINT:**\n",
    "\n",
    "*Maximize the number of the queen placed in the chessboard, subject to the constraint of no threatening*\n",
    "\n",
    "||&nbsp; &nbsp; A&nbsp; &nbsp;|&nbsp; &nbsp; B&nbsp; &nbsp;|&nbsp; &nbsp; C&nbsp; &nbsp;|&nbsp; &nbsp; D&nbsp; &nbsp;|\n",
    "|-|-|-|-|-|\n",
    "|**1**|$ x_{1,1} $|$ x_{1,2} $|$ x_{1,3} $|$ x_{1,4} $|\n",
    "|**2**|$ x_{2,1} $|$ x_{2,2} $|$ x_{2,3} $|$ x_{2,4} $|\n",
    "|**3**|$ x_{3,1} $|$ x_{3,2} $|$ x_{3,3} $|$ x_{3,4} $|\n",
    "|**4**|$ x_{4,1} $|$ x_{4,2} $|$ x_{4,3} $|$ x_{4,4} $|\n",
    "\n",
    ">N = queens number\n",
    "\n",
    "maximize $\\Sigma_{i=1}^N \\Sigma_{j=1}^N x_{i,j}$\\\n",
    "subject to\n",
    ">$\\Sigma_{j=1}^N x_{1,j} = 1$ at most one queen in row 1\\\n",
    ">$\\Sigma_{j=1}^N x_{2,j} = 1$ at most one queen in row 2\\\n",
    ">$\\Sigma_{j=1}^N x_{3,j} = 1$ at most one queen in row 3\\\n",
    ">$\\Sigma_{j=1}^N x_{4,j} = 1$ at most one queen in row 4\n",
    "\n",
    ">$\\Sigma_{i=1}^N x_{i,1} = 1$ at most one queen in column 1 (A)\\\n",
    ">$\\Sigma_{i=1}^N x_{i,2} = 1$ at most one queen in column 2 (B)\\\n",
    ">$\\Sigma_{i=1}^N x_{i,3} = 1$ at most one queen in column 3 (C)\\\n",
    ">$\\Sigma_{i=1}^N x_{i,4} = 1$ at most one queen in column 4 (D)\n",
    "\n",
    ">$\\Sigma_{j=1}^{N-2} x_{j+2, j} <= 1$ at most one queen in diagonal A3 to B4\\\n",
    ">$\\Sigma_{j=1}^{N-1} x_{j+1, j} <= 1$ at most one queen in diagonal A2 to C4\n",
    "\n",
    ">$\\Sigma_{j=1}^{N} x_{j, j} <= 1$ at most one queen in diagonal A1 to D4\\\n",
    ">$\\Sigma_{j=1}^{N-1} x_{j, j+1} <= 1$ at most one queen in diagonal B1 to D3\\\n",
    ">$\\Sigma_{j=1}^{N-2} x_{j, j+2} <= 1$ at most one queen in diagonal C1 to D2\n",
    "\n",
    ">$\\Sigma_{j=1}^{N-2} x_{j, N-1-j}$ at most one queen in diagonal A2 to B1\\\n",
    ">$\\Sigma_{j=1}^{N-1} x_{j, N-j}$ at most one queen in diagonal A3 to C1\\\n",
    ">$\\Sigma_{j=1}^{N} x_{j, N+1-j}$ at most one queen in diagonal A4 to D1\n",
    "\n",
    ">$\\Sigma_{j=2}^{N} x_{j, N+2-j}$ at most one queen in diagonal B4 to D2\\\n",
    ">$\\Sigma_{j=3}^{N} x_{j, N+2-j}$ at most one queen in diagonal C4 to D3\n"
   ]
  },
  {
   "cell_type": "code",
   "execution_count": 308,
   "metadata": {
    "id": "SwaVjLpIQoWj"
   },
   "outputs": [],
   "source": [
    "import numpy as np\n",
    "\n",
    "def get_NQueens_model(N):\n",
    "    model = Model(\"\")\n",
    "    v = {f\"x_{i}{j}\": model.addVar(vtype='i', name=f\"x_{i}{j}\",lb=0,ub=1) for i in range(1,N+1) for j in range(1,N+1)}\n",
    "\n",
    "\n",
    "    #constraints sulle righe\n",
    "    for i in range(1,N+1):\n",
    "        model.addCons(quicksum(1*v[f\"x_{i}{j}\"] for j in range(1,N+1))==1)\n",
    "\n",
    "\n",
    "\n",
    "    #constraints sulle colonne\n",
    "    for j in range(1,N+1):\n",
    "        model.addCons(quicksum(1*v[f\"x_{i}{j}\"] for i in range(1,N+1))==1)\n",
    "        \n",
    "\n",
    "    #constraints sulle diagonali\n",
    "    for righe in range(1,N+1):\n",
    "        for colonne in range(1,N+1):\n",
    "            num_ite1 = N + 1 - max(righe, colonne)\n",
    "            num_ite2 = 1 - min(righe, colonne)\n",
    "            num_ite3 = min(N - righe, colonne - 1) \n",
    "            num_ite4 = min(righe - 1, N - colonne)\n",
    "            model.addCons(quicksum(1*v[f\"x_{righe+i}{colonne+i}\"] for i in range(num_ite2,num_ite1))<=1)\n",
    "            lista1 = [(righe + i, colonne - i) for i in range(num_ite3 + 1)]\n",
    "            # Iterazioni che vanno dal centro verso il basso a sinistra\n",
    "            lista2 = [(righe - i, colonne + i) for i in range(1, num_ite4 + 1)]\n",
    "            lista = lista1 + lista2\n",
    "            model.addCons(quicksum(1*v[f\"x_{i[0]}{i[1]}\"] for i in lista)<=1)\n",
    "\n",
    "\n",
    "    for i in range(1,N+1):\n",
    "        model.setObjective(quicksum(1*v[f\"x_{i}{j}\"] for j in range(1,N+1)), \"maximize\")\n",
    "\n",
    "    return model"
   ]
  },
  {
   "cell_type": "code",
   "execution_count": 309,
   "metadata": {
    "colab": {
     "base_uri": "https://localhost:8080/"
    },
    "id": "xJtGjRQeb6KY",
    "outputId": "63e3e071-4c5e-4774-c8c5-3f74b908f2f0"
   },
   "outputs": [
    {
     "name": "stdout",
     "output_type": "stream",
     "text": [
      "elapsed time: 0.07229089736938477\n",
      "Best solution {'x_11': 0.0, 'x_12': 0.0, 'x_13': 0.0, 'x_14': 0.0, 'x_15': 1.0, 'x_16': 0.0, 'x_17': 0.0, 'x_21': 0.0, 'x_22': 1.0, 'x_23': 0.0, 'x_24': 0.0, 'x_25': 0.0, 'x_26': 0.0, 'x_27': 0.0, 'x_31': 0.0, 'x_32': 0.0, 'x_33': 0.0, 'x_34': 0.0, 'x_35': 0.0, 'x_36': 1.0, 'x_37': 0.0, 'x_41': 0.0, 'x_42': 0.0, 'x_43': 1.0, 'x_44': 0.0, 'x_45': 0.0, 'x_46': 0.0, 'x_47': 0.0, 'x_51': 0.0, 'x_52': 0.0, 'x_53': 0.0, 'x_54': 0.0, 'x_55': 0.0, 'x_56': 0.0, 'x_57': 1.0, 'x_61': 0.0, 'x_62': 0.0, 'x_63': 0.0, 'x_64': 1.0, 'x_65': 0.0, 'x_66': 0.0, 'x_67': 0.0, 'x_71': 1.0, 'x_72': 0.0, 'x_73': 0.0, 'x_74': 0.0, 'x_75': 0.0, 'x_76': 0.0, 'x_77': 0.0}\n",
      "Best value 1.0\n",
      "['-', '-', '-', '-', 'Q', '-', '-']\n",
      "['-', 'Q', '-', '-', '-', '-', '-']\n",
      "['-', '-', '-', '-', '-', 'Q', '-']\n",
      "['-', '-', 'Q', '-', '-', '-', '-']\n",
      "['-', '-', '-', '-', '-', '-', 'Q']\n",
      "['-', '-', '-', 'Q', '-', '-', '-']\n",
      "['Q', '-', '-', '-', '-', '-', '-']\n"
     ]
    }
   ],
   "source": [
    "n_queens = 7  # TODO : experiment with the number of queens\n",
    "model = get_NQueens_model(n_queens)\n",
    "initial_time = time.time()\n",
    "best_sol, best_val, partial_frontier_history = solve_model(model)\n",
    "print(f\"elapsed time: {time.time() - initial_time}\")\n",
    "\n",
    "print(\"Best solution\", best_sol)\n",
    "print(\"Best value\", best_val)\n",
    "\n",
    "for i in range(1, n_queens+1):\n",
    "  line = []\n",
    "  for j in range(1, n_queens+1):\n",
    "    line.append('Q' if best_sol[f\"x_{i}{j}\"]==1 else '-')\n",
    "  print(line)"
   ]
  },
  {
   "cell_type": "markdown",
   "metadata": {
    "id": "j_pyfmMMcJ-E"
   },
   "source": [
    "### Exercise 2/3: Traveling Salesman Problem | ILP"
   ]
  },
  {
   "cell_type": "markdown",
   "metadata": {
    "id": "S38r6-oYcQA2"
   },
   "source": [
    "The goal of the TSP is to find the shortest Hamiltonian cycle (a cycle that visits each node only once) on a graph of N nodes. Solve the ILP problem and visualize a solution.\n",
    "\n",
    "Try to model the problem from this [link](https://phabi.ch/2021/10/08/solving-tsp-with-linear-programming-and-google-or-tools/)\n",
    "\n",
    "### Indices:\n",
    "$i, j \\in I = 1,2,3,....,n$\\\n",
    "$n$ = number of nodes\n",
    "\n",
    "### Decision variables:\n",
    "$x_{i,j}$ = 1 if node j is visited right after node i, 0 otherwise\n",
    "\n",
    "### Auxiliary variables:\n",
    "$u_i$ it enumerate the stops in sequential order, used for the subtour elimination constraint\n",
    "\n",
    "### Parameters:\n",
    "$d_{i,j}$ = distance to reach node j from node i (and viceversa)\n",
    "\n",
    "### Constraints:\n",
    "Leave every point for exactly one successor\\\n",
    "$\\forall i \\in I : \\Sigma_{j} x_{i,j} = 1$\n",
    "\n",
    "Reach every point from exactly one predecessor\\\n",
    "$\\forall j \\in I : \\Sigma_{i} x_{i,j} = 1$\n",
    "\n",
    "\n",
    "*For the following constraints see [2.2. The MTZ Formulation](https://epubs.siam.org/doi/pdf/10.1137/S00361445023685) for a further explanation*\n",
    "\n",
    "Start at the first node\\\n",
    "$u_1 = 1$\n",
    "\n",
    "Since we have $n$ locations, all subsequent $u_i$ must have assigned a value between 2 and $n$\\\n",
    "$\\forall i \\ne 1 : 2 \\le u_i \\le n$\n",
    "\n",
    "The index of every succeeding stop gets assigned an index which is at least 1 larger than the predecessor’s index\\\n",
    "$\\forall i \\ne 1, \\forall j \\ne 1 : u_i - u_j + 1 \\le (n-1)(1-x_{i,j})$\n",
    "\n",
    "### Objective Function:\n",
    "minimize $\\Sigma_{(i,j)\\in(I \\times I)} x_{i,j}d_{i,j}$"
   ]
  },
  {
   "cell_type": "code",
   "execution_count": 314,
   "metadata": {
    "id": "6llJtkaBcR8q"
   },
   "outputs": [],
   "source": [
    "# randomly create a distance matrix defining the distance to reach node j from node i\n",
    "# Since our problem is symmetrical, the vaues in the distance matrix are symmetrical with respect to the diagonal\n",
    "def create_distance_matrix(num_nodes):\n",
    "  distance = np.zeros((num_nodes, num_nodes))\n",
    "  for i in range(num_nodes):\n",
    "    for j in range(i+1, num_nodes):\n",
    "        rand = np.round(np.random.rand(), 2)\n",
    "        distance[i][j] = rand\n",
    "        distance[j][i] = rand\n",
    "  return distance\n",
    "\n",
    "def get_directed_graph_from_weight_matrix(matrix, n_nodes):\n",
    "    G = nx.DiGraph()\n",
    "    G.add_nodes_from([i for i in range(1, n_nodes+1)])\n",
    "    for i in range(n_nodes):\n",
    "        for j in range(n_nodes):\n",
    "            if(matrix[i][j] > 0):\n",
    "              G.add_edge(i+1, j+1, weight=matrix[i][j])\n",
    "    return G\n",
    "\n",
    "def draw_graph(matrix, n_nodes, solution = None):\n",
    "    print(solution)\n",
    "    G = get_directed_graph_from_weight_matrix(matrix, n_nodes)\n",
    "    pos = nx.circular_layout(G)\n",
    "    edge_color = 'k'\n",
    "    if(solution is not None):\n",
    "      edge_color = []\n",
    "      for i in range(n_nodes):\n",
    "        for j in range(n_nodes):\n",
    "          if(matrix[i][j]>0):\n",
    "            edge_color.append(\"red\" if solution[f\"x_{i+1}{j+1}\"]==1 else \"black\")\n",
    "    nx.draw(G, pos, with_labels=True, connectionstyle='arc3,rad=0.15', edge_color=edge_color)\n",
    "    edge_labels = dict(((u, v), \"{start}->{end} w:{weight:.2f}\".format(start=u, end=v, weight=d[\"weight\"])) for u, v, d in G.edges(data=True))\n",
    "    nx.draw_networkx_edge_labels(G, pos, edge_labels = edge_labels, label_pos=0.7, font_size=8)\n",
    "    plt.show()"
   ]
  },
  {
   "cell_type": "code",
   "execution_count": 311,
   "metadata": {
    "id": "FY7ATt1xb8Fp"
   },
   "outputs": [
    {
     "data": {
      "text/plain": [
       "'def get_TSP_model(matrix, n_nodes):\\n    model = Model(\"\")\\n    print(matrix)\\n    v = {f\"x_{i}{j}\": model.addVar(vtype=\\'i\\', name=f\"x_{i}{j}\",lb=0,ub=1) for i in range(1,n_nodes+1) for j in range(1,n_nodes+1)}\\n    u = {f\"u_{i}\": model.addVar(vtype=\\'i\\', name=f\"u_{i}\",lb=2,ub=n_nodes) for i in range(1,n_nodes+1) }\\n\\n\\n    #Leave every point for exactly one successor\\n    for j in range(1,n_nodes+1):\\n        model.addCons(quicksum(1*v[f\"x_{i}{j}\"] for i in range(1,n_nodes+1))==1)\\n\\n    #Reach every point from exactly one predecessor\\n    for i in range(1,n_nodes+1):\\n        model.addCons(quicksum(1*v[f\"x_{i}{j}\"] for j in range(1,n_nodes+1))==1)\\n    \\n\\n    for i in range(1,n_nodes+1):\\n        if i == 1:\\n            model.addCons((1*u[f\"u_{i}\"]) ==1)\\n    \\n    for i in range(1,n_nodes+1):\\n        for j in range(1,n_nodes+1):\\n            if i != 1 and j!=1:\\n                print((u[f\"u_{i}\"] - u[f\"u_{j}\"] + 1) <= ((n_nodes - 1)*(1 - v[f\"x_{i}{j}\"])))\\n                model.addCons((u[f\"u_{i}\"] - u[f\"u_{j}\"] + 1) <= ((n_nodes - 1)*(1 - v[f\"x_{i}{j}\"])))\\n\\n    d = matrix\\n    #[print(i) for i in d[0]]\\n    print(d)\\n                \\n    for i in range(1,n_nodes+1): \\n        print(quicksum(v[f\"x_{i}{j}\"]*d[i-1][j-1] for j in range(1,n_nodes+1)))\\n        model.setObjective(quicksum(v[f\"x_{i}{j}\"]*d[i-1][j-1] for j in range(1,n_nodes+1)), \"minimize\")\\n\\n    return model'"
      ]
     },
     "execution_count": 311,
     "metadata": {},
     "output_type": "execute_result"
    }
   ],
   "source": [
    "'''def get_TSP_model(matrix, n_nodes):\n",
    "    model = Model(\"\")\n",
    "    print(matrix)\n",
    "    v = {f\"x_{i}{j}\": model.addVar(vtype='i', name=f\"x_{i}{j}\",lb=0,ub=1) for i in range(1,n_nodes+1) for j in range(1,n_nodes+1)}\n",
    "    u = {f\"u_{i}\": model.addVar(vtype='i', name=f\"u_{i}\",lb=2,ub=n_nodes) for i in range(1,n_nodes+1) }\n",
    "\n",
    "\n",
    "    #Leave every point for exactly one successor\n",
    "    for j in range(1,n_nodes+1):\n",
    "        model.addCons(quicksum(1*v[f\"x_{i}{j}\"] for i in range(1,n_nodes+1))==1)\n",
    "\n",
    "    #Reach every point from exactly one predecessor\n",
    "    for i in range(1,n_nodes+1):\n",
    "        model.addCons(quicksum(1*v[f\"x_{i}{j}\"] for j in range(1,n_nodes+1))==1)\n",
    "    \n",
    "\n",
    "    for i in range(1,n_nodes+1):\n",
    "        if i == 1:\n",
    "            model.addCons((1*u[f\"u_{i}\"]) ==1)\n",
    "    \n",
    "    for i in range(1,n_nodes+1):\n",
    "        for j in range(1,n_nodes+1):\n",
    "            if i != 1 and j!=1:\n",
    "                print((u[f\"u_{i}\"] - u[f\"u_{j}\"] + 1) <= ((n_nodes - 1)*(1 - v[f\"x_{i}{j}\"])))\n",
    "                model.addCons((u[f\"u_{i}\"] - u[f\"u_{j}\"] + 1) <= ((n_nodes - 1)*(1 - v[f\"x_{i}{j}\"])))\n",
    "\n",
    "    d = matrix\n",
    "    #[print(i) for i in d[0]]\n",
    "    print(d)\n",
    "                \n",
    "    for i in range(1,n_nodes+1): \n",
    "        print(quicksum(v[f\"x_{i}{j}\"]*d[i-1][j-1] for j in range(1,n_nodes+1)))\n",
    "        model.setObjective(quicksum(v[f\"x_{i}{j}\"]*d[i-1][j-1] for j in range(1,n_nodes+1)), \"minimize\")\n",
    "\n",
    "    return model'''"
   ]
  },
  {
   "cell_type": "code",
   "execution_count": 312,
   "metadata": {},
   "outputs": [],
   "source": [
    "def get_TSP_model(matrix, n_nodes):\n",
    "    model = Model(\"TSP\")\n",
    "    x  = {f\"x_{i}{j}\": model.addVar(vtype='i', name=f\"x_{i}{j}\",lb=0,ub=1) for i in range(1,n_nodes+1) for j in range(1,n_nodes+1)}\n",
    "    u = {f\"u_1\": model.addVar(vtype='C', name=f\"u_1\", lb=1, ub=1)}\n",
    "    u.update({f\"u_{i}\": model.addVar(vtype='C', name=f\"u_{i}\", lb=2, ub=n_nodes) for i in range(2, n_nodes+1)})\n",
    "    \n",
    "    # Leave every point for exactly one successor\n",
    "    for i in range(1, n_nodes+1):\n",
    "        model.addCons(quicksum(x[f\"x_{i}{j}\"] for j in range(1, n_nodes+1)) == 1)\n",
    "\n",
    "    # Reach every point from exactly one predecessor\n",
    "    for j in range(1, n_nodes+1):\n",
    "        model.addCons(quicksum(x[f\"x_{i}{j}\"] for i in range(1, n_nodes+1)) == 1)\n",
    "\n",
    "\n",
    "    # Subtour elimination constraints\n",
    "    for i in range(2, n_nodes+1):\n",
    "        for j in range(2, n_nodes+1):\n",
    "            model.addCons(u[f\"u_{i}\"] - u[f\"u_{j}\"] + n_nodes * x[f\"x_{i}{j}\"] <= n_nodes - 1)\n",
    "\n",
    "    # Objective function\n",
    "    model.setObjective(quicksum(x[f\"x_{i}{j}\"] * matrix[i-1][j-1] for i in range(1, n_nodes+1) for j in range(1, n_nodes+1)), \"minimize\")\n",
    "\n",
    "    return model\n"
   ]
  },
  {
   "cell_type": "code",
   "execution_count": 315,
   "metadata": {
    "colab": {
     "base_uri": "https://localhost:8080/",
     "height": 572
    },
    "id": "yH7icfaDmjN6",
    "outputId": "5f715712-7931-4686-f8ff-14153ad5ed73"
   },
   "outputs": [
    {
     "name": "stdout",
     "output_type": "stream",
     "text": [
      "Best solution {'x_11': 0.0, 'x_12': 0.0, 'x_13': 1.0, 'x_14': 0.0, 'x_21': 1.0, 'x_22': 0.0, 'x_23': 0.0, 'x_24': 0.0, 'x_31': 0.0, 'x_32': 0.0, 'x_33': 0.0, 'x_34': 1.0, 'x_41': 0.0, 'x_42': 1.0, 'x_43': 0.0, 'x_44': 0.0, 'u_1': 1.0, 'u_2': 4.0, 'u_3': 2.0, 'u_4': 3.0}\n",
      "Best value 1.93\n",
      "None\n"
     ]
    },
    {
     "data": {
      "image/png": "[encoded data removed]",
      "text/plain": [
       "<Figure size 640x480 with 1 Axes>"
      ]
     },
     "metadata": {},
     "output_type": "display_data"
    },
    {
     "name": "stdout",
     "output_type": "stream",
     "text": [
      "{'x_11': 0.0, 'x_12': 0.0, 'x_13': 1.0, 'x_14': 0.0, 'x_21': 1.0, 'x_22': 0.0, 'x_23': 0.0, 'x_24': 0.0, 'x_31': 0.0, 'x_32': 0.0, 'x_33': 0.0, 'x_34': 1.0, 'x_41': 0.0, 'x_42': 1.0, 'x_43': 0.0, 'x_44': 0.0, 'u_1': 1.0, 'u_2': 4.0, 'u_3': 2.0, 'u_4': 3.0}\n"
     ]
    },
    {
     "ename": "KeyError",
     "evalue": "'e_12'",
     "output_type": "error",
     "traceback": [
      "\u001b[1;31m---------------------------------------------------------------------------\u001b[0m",
      "\u001b[1;31mKeyError\u001b[0m                                  Traceback (most recent call last)",
      "Cell \u001b[1;32mIn[315], line 13\u001b[0m\n\u001b[0;32m      9\u001b[0m \u001b[38;5;28mprint\u001b[39m(\u001b[38;5;124m\"\u001b[39m\u001b[38;5;124mBest value\u001b[39m\u001b[38;5;124m\"\u001b[39m, best_val)\n\u001b[0;32m     11\u001b[0m draw_graph(matrix, n_nodes)\n\u001b[1;32m---> 13\u001b[0m \u001b[43mdraw_graph\u001b[49m\u001b[43m(\u001b[49m\u001b[43mmatrix\u001b[49m\u001b[43m,\u001b[49m\u001b[43m \u001b[49m\u001b[43mn_nodes\u001b[49m\u001b[43m,\u001b[49m\u001b[43m \u001b[49m\u001b[43mbest_sol\u001b[49m\u001b[43m)\u001b[49m\n\u001b[0;32m     14\u001b[0m \u001b[38;5;66;03m# TODO: run draw_graph(matrox, n_nodes, solution=best_sol) after the get_TSP_model function is implemented\u001b[39;00m\n",
      "Cell \u001b[1;32mIn[314], line 31\u001b[0m, in \u001b[0;36mdraw_graph\u001b[1;34m(matrix, n_nodes, solution)\u001b[0m\n\u001b[0;32m     29\u001b[0m     \u001b[38;5;28;01mfor\u001b[39;00m j \u001b[38;5;129;01min\u001b[39;00m \u001b[38;5;28mrange\u001b[39m(n_nodes):\n\u001b[0;32m     30\u001b[0m       \u001b[38;5;28;01mif\u001b[39;00m(matrix[i][j]\u001b[38;5;241m>\u001b[39m\u001b[38;5;241m0\u001b[39m):\n\u001b[1;32m---> 31\u001b[0m         edge_color\u001b[38;5;241m.\u001b[39mappend(\u001b[38;5;124m\"\u001b[39m\u001b[38;5;124mred\u001b[39m\u001b[38;5;124m\"\u001b[39m \u001b[38;5;28;01mif\u001b[39;00m \u001b[43msolution\u001b[49m\u001b[43m[\u001b[49m\u001b[38;5;124;43mf\u001b[39;49m\u001b[38;5;124;43m\"\u001b[39;49m\u001b[38;5;124;43me_\u001b[39;49m\u001b[38;5;132;43;01m{\u001b[39;49;00m\u001b[43mi\u001b[49m\u001b[38;5;241;43m+\u001b[39;49m\u001b[38;5;241;43m1\u001b[39;49m\u001b[38;5;132;43;01m}\u001b[39;49;00m\u001b[38;5;132;43;01m{\u001b[39;49;00m\u001b[43mj\u001b[49m\u001b[38;5;241;43m+\u001b[39;49m\u001b[38;5;241;43m1\u001b[39;49m\u001b[38;5;132;43;01m}\u001b[39;49;00m\u001b[38;5;124;43m\"\u001b[39;49m\u001b[43m]\u001b[49m\u001b[38;5;241m==\u001b[39m\u001b[38;5;241m1\u001b[39m \u001b[38;5;28;01melse\u001b[39;00m \u001b[38;5;124m\"\u001b[39m\u001b[38;5;124mblack\u001b[39m\u001b[38;5;124m\"\u001b[39m)\n\u001b[0;32m     32\u001b[0m nx\u001b[38;5;241m.\u001b[39mdraw(G, pos, with_labels\u001b[38;5;241m=\u001b[39m\u001b[38;5;28;01mTrue\u001b[39;00m, connectionstyle\u001b[38;5;241m=\u001b[39m\u001b[38;5;124m'\u001b[39m\u001b[38;5;124marc3,rad=0.15\u001b[39m\u001b[38;5;124m'\u001b[39m, edge_color\u001b[38;5;241m=\u001b[39medge_color)\n\u001b[0;32m     33\u001b[0m edge_labels \u001b[38;5;241m=\u001b[39m \u001b[38;5;28mdict\u001b[39m(((u, v), \u001b[38;5;124m\"\u001b[39m\u001b[38;5;132;01m{start}\u001b[39;00m\u001b[38;5;124m->\u001b[39m\u001b[38;5;132;01m{end}\u001b[39;00m\u001b[38;5;124m w:\u001b[39m\u001b[38;5;132;01m{weight:.2f}\u001b[39;00m\u001b[38;5;124m\"\u001b[39m\u001b[38;5;241m.\u001b[39mformat(start\u001b[38;5;241m=\u001b[39mu, end\u001b[38;5;241m=\u001b[39mv, weight\u001b[38;5;241m=\u001b[39md[\u001b[38;5;124m\"\u001b[39m\u001b[38;5;124mweight\u001b[39m\u001b[38;5;124m\"\u001b[39m])) \u001b[38;5;28;01mfor\u001b[39;00m u, v, d \u001b[38;5;129;01min\u001b[39;00m G\u001b[38;5;241m.\u001b[39medges(data\u001b[38;5;241m=\u001b[39m\u001b[38;5;28;01mTrue\u001b[39;00m))\n",
      "\u001b[1;31mKeyError\u001b[0m: 'e_12'"
     ]
    }
   ],
   "source": [
    "n_nodes = 4 #number of nodes\n",
    "\n",
    "matrix = create_distance_matrix(n_nodes)\n",
    "\n",
    "model = get_TSP_model(matrix, n_nodes)\n",
    "best_sol, best_val, partial_frontier_history = solve_model(model)\n",
    "\n",
    "print(\"Best solution\", best_sol)\n",
    "print(\"Best value\", best_val)\n",
    "\n",
    "draw_graph(matrix, n_nodes)\n",
    "\n",
    "draw_graph(matrix, n_nodes, best_sol)\n",
    "# TODO: run draw_graph(matrox, n_nodes, solution=best_sol) after the get_TSP_model function is implemented"
   ]
  },
  {
   "cell_type": "markdown",
   "metadata": {
    "id": "1oSVSc8-n8Hj"
   },
   "source": [
    "### Exercise 3/3: Knapsack Problem | DP"
   ]
  },
  {
   "cell_type": "markdown",
   "metadata": {
    "id": "qveVBInun-CI"
   },
   "source": [
    "Solve the Knapsack problem using DP.  You can use the Class from lab 5.\n",
    "\n",
    "Run the solution multiple time, and change the total capacity and the number of objects and show how the number of subproblems changes."
   ]
  },
  {
   "cell_type": "code",
   "execution_count": null,
   "metadata": {
    "id": "-gYy4EMqm50_"
   },
   "outputs": [],
   "source": [
    "class Knapsack_0_1:\n",
    "    def __init__(self, capacity = 10, items = [\n",
    "            {'name': 'apple', 'value': 1, 'volume': 2},\n",
    "            {'name': 'pear', 'value': 2, 'volume': 2},\n",
    "            {'name': 'banana', 'value': 2, 'volume': 2},\n",
    "            {'name': 'watermelon', 'value': 5, 'volume': 10},\n",
    "            {'name': 'orange', 'value': 3, 'volume': 2},\n",
    "            {'name': 'avocado', 'value': 3, 'volume': 2},\n",
    "            {'name': 'blueberry', 'value': 3, 'volume': 1},\n",
    "            {'name': 'coconut', 'value': 4, 'volume': 3},\n",
    "            {'name': 'cherry', 'value': 2, 'volume': 1},\n",
    "            {'name': 'apricot', 'value': 1, 'volume': 1}\n",
    "        ]):\n",
    "        self._items = items\n",
    "        self._BAG_CAPACITY = capacity\n",
    "\n",
    "    def getCapacity(self):\n",
    "        return self._BAG_CAPACITY\n",
    "\n",
    "    def getItemsNumber(self):\n",
    "        return len(self._items)\n",
    "\n",
    "    def getWeightandValue(self, ind):\n",
    "        w_i = self._items[ind][\"volume\"]\n",
    "        c_i = self._items[ind][\"value\"]\n",
    "        return (w_i, c_i)\n",
    "\n",
    "    def _get_value(self, solution):\n",
    "        cur_cap = self._BAG_CAPACITY\n",
    "        cur_val = 0\n",
    "        for i, v in enumerate(solution):\n",
    "            if v == 1:\n",
    "                cur_val += self._items[i]['value']\n",
    "                cur_cap -= self._items[i]['volume']\n",
    "            if cur_cap < 0:\n",
    "                return 0\n",
    "        return cur_val\n",
    "\n",
    "    def __call__(self, solution):\n",
    "        value = self._get_value(solution)\n",
    "        return value"
   ]
  },
  {
   "cell_type": "code",
   "execution_count": null,
   "metadata": {
    "id": "YyDl1uyVoGi5"
   },
   "outputs": [],
   "source": [
    "def dp_solution(problem):\n",
    "  K = problem.getCapacity()\n",
    "  n = problem.getItemsNumber()\n",
    "  v = np.zeros((K+1, n+1))\n",
    "  S = np.zeros((K+1, n+1))\n",
    "  sub_problem = 0\n",
    "\n",
    "  # TODO\n",
    "\n",
    "  pass"
   ]
  },
  {
   "cell_type": "code",
   "execution_count": null,
   "metadata": {
    "id": "Ybf-Uz4dogtG"
   },
   "outputs": [],
   "source": [
    "problem = Knapsack_0_1()\n",
    "sol, value, sub_problem = dp_solution(problem)\n",
    "print(\"Solution\", sol)\n",
    "print(\"Value\", value)\n",
    "print(\"Subproblem number\", sub_problem)"
   ]
  },
  {
   "cell_type": "code",
   "execution_count": null,
   "metadata": {
    "id": "yCUPl1FNohoT"
   },
   "outputs": [],
   "source": [
    "# TODO : try with different parameters (capacity, items)"
   ]
  }
 ],
 "metadata": {
  "colab": {
   "provenance": []
  },
  "kernelspec": {
   "display_name": "Python 3 (ipykernel)",
   "language": "python",
   "name": "python3"
  },
  "language_info": {
   "codemirror_mode": {
    "name": "ipython",
    "version": 3
   },
   "file_extension": ".py",
   "mimetype": "text/x-python",
   "name": "python",
   "nbconvert_exporter": "python",
   "pygments_lexer": "ipython3",
   "version": "3.11.7"
  }
 },
 "nbformat": 4,
 "nbformat_minor": 1
}
