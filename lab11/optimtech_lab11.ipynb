{
 "cells": [
  {
   "cell_type": "markdown",
   "metadata": {
    "id": "8Vp0B6slOJhi"
   },
   "source": [
    "# Lab. 11: Integer Linear programming and Dinamic Programming\n",
    "\n",
    "## Introduction\n",
    "\n",
    "#### <u>In this lab, we will see Integer Linear programming and Dynamic programming (DP).</u>"
   ]
  },
  {
   "cell_type": "code",
   "execution_count": 2,
   "metadata": {
    "cellView": "form",
    "id": "77x74Nr5OFy1"
   },
   "outputs": [],
   "source": [
    "# @title Helper Functions\n",
    "\n",
    "!pip install -q pyscipopt\n",
    "!pip install -q scikit-optimize\n",
    "!pip install -q treed\n",
    "\n",
    "from pyscipopt import Model, Eventhdlr, SCIP_EVENTTYPE\n",
    "from pyscipopt import Model , quicksum\n",
    "import matplotlib.pyplot as plt\n",
    "from treed import TreeD\n",
    "import networkx as nx\n",
    "import seaborn as sns\n",
    "import numpy as np\n",
    "import pyscipopt\n",
    "import math\n",
    "import time\n",
    "import copy\n",
    "\n",
    "class LPstatEventhdlr(Eventhdlr):\n",
    "    \"\"\"PySCIPOpt Event handler to collect data on LP events.\"\"\"\n",
    "\n",
    "    transvars = {}\n",
    "\n",
    "    def collectNodeInfo(self, firstlp=True):\n",
    "        objval = self.model.getSolObjVal(None)\n",
    "\n",
    "        LPsol = {}\n",
    "        if self.transvars == {}:\n",
    "            self.transvars = self.model.getVars(transformed=True)\n",
    "        for var in self.transvars:\n",
    "            solval = self.model.getSolVal(None, var)\n",
    "            LPsol[var.name] = self.model.getSolVal(None, var)\n",
    "\n",
    "        # skip duplicate nodes\n",
    "        # if self.nodelist and LPsol == self.nodelist[-1].get(\"LPsol\"):\n",
    "        #     return\n",
    "        node = self.model.getCurrentNode()\n",
    "        if node.getNumber() != 1:\n",
    "            parentnode = node.getParent()\n",
    "            parent = parentnode.getNumber()\n",
    "        else:\n",
    "            parent = 1\n",
    "        depth = node.getDepth()\n",
    "        age = self.model.getNNodes()\n",
    "        condition = math.log10(self.model.getCondition())\n",
    "        iters = self.model.lpiGetIterations()\n",
    "        pb = self.model.getPrimalbound()\n",
    "        if pb >= self.model.infinity():\n",
    "            pb = None\n",
    "\n",
    "        nodedict = {\n",
    "            \"number\": node.getNumber(),\n",
    "            \"LPsol\": LPsol,\n",
    "            \"objval\": objval,\n",
    "            \"parent\": parent,\n",
    "            \"age\": age,\n",
    "            \"depth\": depth,\n",
    "            \"first\": firstlp,\n",
    "            \"condition\": condition,\n",
    "            \"iterations\": iters,\n",
    "            # \"variables\": self.model.getNVars(),\n",
    "            # \"constraints\": self.model.getNConss(),\n",
    "            \"rows\": self.model.getNLPRows(),\n",
    "            \"primalbound\": pb,\n",
    "            \"dualbound\": self.model.getDualbound(),\n",
    "            \"time\": self.model.getSolvingTime()\n",
    "        }\n",
    "\n",
    "        self.nodelist.append(nodedict)\n",
    "\n",
    "    def eventexec(self, event):\n",
    "\n",
    "        if event.getType() == SCIP_EVENTTYPE.FIRSTLPSOLVED:\n",
    "            self.collectNodeInfo(firstlp=True)\n",
    "        elif event.getType() == SCIP_EVENTTYPE.LPSOLVED:\n",
    "            self.collectNodeInfo(firstlp=False)\n",
    "        else:\n",
    "            print(\"unexpected event:\" + str(event))\n",
    "        return {}\n",
    "\n",
    "    def eventinit(self):\n",
    "        self.model.catchEvent(SCIP_EVENTTYPE.LPEVENT, self)\n",
    "\n",
    "def convertSolToDict(sol):\n",
    "    ssol = str(sol).replace('\\'', '').replace('t_', '')\n",
    "    items = ssol[1:-1].split(\", \")\n",
    "    res = {}\n",
    "    for item in items:\n",
    "        k = str(item.split(\":\")[0])\n",
    "        v = float(item.split(\":\")[1])\n",
    "        res[k] = v\n",
    "    return res\n",
    "\n",
    "\n",
    "#risolve già il problema per noi -> ciò che importa è la definizione del probelma\n",
    "def solve_model(model):\n",
    "    model.setPresolve(pyscipopt.SCIP_PARAMSETTING.OFF)\n",
    "    model.setHeuristics(pyscipopt.SCIP_PARAMSETTING.OFF)\n",
    "    model.disablePropagation()\n",
    "    #model.redirectOutput()\n",
    "    nodelist = []\n",
    "    eventhdlr = LPstatEventhdlr()\n",
    "    eventhdlr.nodelist = nodelist\n",
    "    model.includeEventhdlr(\n",
    "        eventhdlr, \"LPstat\", \"generate LP statistics after every LP event\"\n",
    "    )\n",
    "    model.optimize()\n",
    "    frontier_history = []\n",
    "    for nd in nodelist:\n",
    "        frontier_history.append((convertSolToDict(nd['LPsol']), nd['objval']))\n",
    "    best_sol = model.getBestSol()\n",
    "    best_val = model.getObjVal()\n",
    "    return convertSolToDict(best_sol), best_val, frontier_history"
   ]
  },
  {
   "cell_type": "markdown",
   "metadata": {
    "id": "wqgmYvMdbVgH"
   },
   "source": [
    "## Exercises\n",
    "\n",
    "For the Integer Linear Programming, you will proceed as in the previous lab, writing some models and solving the problem. For Dynamic Programming, we will ask you to solve the knapsack problem with DP."
   ]
  },
  {
   "cell_type": "markdown",
   "metadata": {
    "id": "8h6hRTplbbq6"
   },
   "source": [
    "### Example exercise"
   ]
  },
  {
   "cell_type": "markdown",
   "metadata": {
    "id": "vf8CaX_vbvva"
   },
   "source": [
    "Slack form:\n",
    "\n",
    "minimize  $2x_1 + x_2 − 2x_3$\n",
    "\n",
    "subject to\n",
    "\n",
    "> $0.7x_1 + 0.5x_2 +x_3 ≥ 1.8$\n",
    "\n",
    "> $x_i ∈ [0,1]\\ ∀ i$"
   ]
  },
  {
   "cell_type": "code",
   "execution_count": 3,
   "metadata": {
    "id": "X3yzk1iOQkNB"
   },
   "outputs": [
    {
     "name": "stdout",
     "output_type": "stream",
     "text": [
      "{'x_1': x_1, 'x_2': x_2, 'x_3': x_3}\n",
      "Best solution {'x_1': 1.0, 'x_2': 1.0, 'x_3': 1.0}\n",
      "Best value 1.0\n",
      "\n",
      "---Partial frontier history---\n",
      "\n",
      "solution: {'x_1': 0.42857142857142866, 'x_2': 1.0, 'x_3': 1.0} \t\tvalue: -0.14285714285714268\n",
      "solution: {'x_1': 1.0, 'x_2': 1.0, 'x_3': 1.0} \t\tvalue: 1.0\n"
     ]
    }
   ],
   "source": [
    "model = Model(\"\")\n",
    "\n",
    "# create three variables for x1, x2 and x3\n",
    "x = {f\"x_{i+1}\": model.addVar(vtype='i', name=f\"x_{i+1}\",lb=0,ub=1) for i in range(3)}\n",
    "print(x)\n",
    "# array for coefficient in constraint\n",
    "A = [0.7,0.5,1]\n",
    "\n",
    "# quick sum is used for creating summing the variables times their coefficients:\n",
    "# Ax >= b\n",
    "# where A = [0.7, 0.5, 1], x = [x1, x2, x3], b = [1.8]\n",
    "model.addCons(quicksum(A[i]*x[f\"x_{i+1}\"] for i in range(3))>=1.8)\n",
    "\n",
    "# set the objective minimize c'x\n",
    "# where c' indicates the array c = [2, 1, -2] transposed\n",
    "c = [2, 1, -2]\n",
    "model.setObjective(quicksum(c[i]*x[f\"x_{i+1}\"] for i in range(3)), \"minimize\")\n",
    "\n",
    "best_sol, best_val, partial_frontier_history = solve_model(model)\n",
    "\n",
    "print(\"Best solution\", best_sol)\n",
    "print(\"Best value\", best_val)\n",
    "print(\"\\n---Partial frontier history---\\n\")\n",
    "for hist in partial_frontier_history:\n",
    "  print(\"solution:\", hist[0], \"\\t\\tvalue:\", hist[1])"
   ]
  },
  {
   "cell_type": "markdown",
   "metadata": {
    "id": "kYUQTxa9btOG"
   },
   "source": [
    "### Exercise 1/3: The N-queens Problem | ILP"
   ]
  },
  {
   "cell_type": "markdown",
   "metadata": {
    "id": "Ls_gggc7b2yT"
   },
   "source": [
    "\n",
    "The N queens puzzle is the problem of placing N chess queens on an $N×N (𝑁≥4)$ chessboard so that no two queens threaten each other; thus, a solution requires that no two queens share the same row, column, or diagonal. Try different values of $𝑁$ and shows how the problem complexity increases.\n",
    "\n",
    "---\n",
    "\n",
    "#### **HINT:**\n",
    "\n",
    "*Maximize the number of the queen placed in the chessboard, subject to the constraint of no threatening*\n",
    "\n",
    "||&nbsp; &nbsp; A&nbsp; &nbsp;|&nbsp; &nbsp; B&nbsp; &nbsp;|&nbsp; &nbsp; C&nbsp; &nbsp;|&nbsp; &nbsp; D&nbsp; &nbsp;|\n",
    "|-|-|-|-|-|\n",
    "|**1**|$ x_{1,1} $|$ x_{1,2} $|$ x_{1,3} $|$ x_{1,4} $|\n",
    "|**2**|$ x_{2,1} $|$ x_{2,2} $|$ x_{2,3} $|$ x_{2,4} $|\n",
    "|**3**|$ x_{3,1} $|$ x_{3,2} $|$ x_{3,3} $|$ x_{3,4} $|\n",
    "|**4**|$ x_{4,1} $|$ x_{4,2} $|$ x_{4,3} $|$ x_{4,4} $|\n",
    "\n",
    ">N = queens number\n",
    "\n",
    "maximize $\\Sigma_{i=1}^N \\Sigma_{j=1}^N x_{i,j}$\\\n",
    "subject to\n",
    ">$\\Sigma_{j=1}^N x_{1,j} = 1$ at most one queen in row 1\\\n",
    ">$\\Sigma_{j=1}^N x_{2,j} = 1$ at most one queen in row 2\\\n",
    ">$\\Sigma_{j=1}^N x_{3,j} = 1$ at most one queen in row 3\\\n",
    ">$\\Sigma_{j=1}^N x_{4,j} = 1$ at most one queen in row 4\n",
    "\n",
    ">$\\Sigma_{i=1}^N x_{i,1} = 1$ at most one queen in column 1 (A)\\\n",
    ">$\\Sigma_{i=1}^N x_{i,2} = 1$ at most one queen in column 2 (B)\\\n",
    ">$\\Sigma_{i=1}^N x_{i,3} = 1$ at most one queen in column 3 (C)\\\n",
    ">$\\Sigma_{i=1}^N x_{i,4} = 1$ at most one queen in column 4 (D)\n",
    "\n",
    ">$\\Sigma_{j=1}^{N-2} x_{j+2, j} <= 1$ at most one queen in diagonal A3 to B4\\\n",
    ">$\\Sigma_{j=1}^{N-1} x_{j+1, j} <= 1$ at most one queen in diagonal A2 to C4\n",
    "\n",
    ">$\\Sigma_{j=1}^{N} x_{j, j} <= 1$ at most one queen in diagonal A1 to D4\\\n",
    ">$\\Sigma_{j=1}^{N-1} x_{j, j+1} <= 1$ at most one queen in diagonal B1 to D3\\\n",
    ">$\\Sigma_{j=1}^{N-2} x_{j, j+2} <= 1$ at most one queen in diagonal C1 to D2\n",
    "\n",
    ">$\\Sigma_{j=1}^{N-2} x_{j, N-1-j}$ at most one queen in diagonal A2 to B1\\\n",
    ">$\\Sigma_{j=1}^{N-1} x_{j, N-j}$ at most one queen in diagonal A3 to C1\\\n",
    ">$\\Sigma_{j=1}^{N} x_{j, N+1-j}$ at most one queen in diagonal A4 to D1\n",
    "\n",
    ">$\\Sigma_{j=2}^{N} x_{j, N+2-j}$ at most one queen in diagonal B4 to D2\\\n",
    ">$\\Sigma_{j=3}^{N} x_{j, N+2-j}$ at most one queen in diagonal C4 to D3\n"
   ]
  },
  {
   "cell_type": "code",
   "execution_count": 4,
   "metadata": {
    "id": "SwaVjLpIQoWj"
   },
   "outputs": [],
   "source": [
    "import numpy as np\n",
    "\n",
    "def get_NQueens_model(N):\n",
    "    model = Model(\"\")\n",
    "    v = {f\"x_{i}{j}\": model.addVar(vtype='i', name=f\"x_{i}{j}\",lb=0,ub=1) for i in range(1,N+1) for j in range(1,N+1)}\n",
    "\n",
    "\n",
    "    #constraints sulle righe\n",
    "    for i in range(1,N+1):\n",
    "        model.addCons(quicksum(1*v[f\"x_{i}{j}\"] for j in range(1,N+1))==1)\n",
    "\n",
    "\n",
    "\n",
    "    #constraints sulle colonne\n",
    "    for j in range(1,N+1):\n",
    "        model.addCons(quicksum(1*v[f\"x_{i}{j}\"] for i in range(1,N+1))==1)\n",
    "        \n",
    "\n",
    "    #constraints sulle diagonali\n",
    "    for righe in range(1,N+1):\n",
    "        for colonne in range(1,N+1):\n",
    "            num_ite1 = N + 1 - max(righe, colonne)\n",
    "            num_ite2 = 1 - min(righe, colonne)\n",
    "            num_ite3 = min(N - righe, colonne - 1) \n",
    "            num_ite4 = min(righe - 1, N - colonne)\n",
    "            model.addCons(quicksum(1*v[f\"x_{righe+i}{colonne+i}\"] for i in range(num_ite2,num_ite1))<=1)\n",
    "            lista1 = [(righe + i, colonne - i) for i in range(num_ite3 + 1)]\n",
    "            # Iterazioni che vanno dal centro verso il basso a sinistra\n",
    "            lista2 = [(righe - i, colonne + i) for i in range(1, num_ite4 + 1)]\n",
    "            lista = lista1 + lista2\n",
    "            model.addCons(quicksum(1*v[f\"x_{i[0]}{i[1]}\"] for i in lista)<=1)\n",
    "\n",
    "\n",
    "    for i in range(1,N+1):\n",
    "        model.setObjective(quicksum(1*v[f\"x_{i}{j}\"] for j in range(1,N+1)), \"maximize\")\n",
    "\n",
    "    return model"
   ]
  },
  {
   "cell_type": "code",
   "execution_count": 5,
   "metadata": {
    "colab": {
     "base_uri": "https://localhost:8080/"
    },
    "id": "xJtGjRQeb6KY",
    "outputId": "63e3e071-4c5e-4774-c8c5-3f74b908f2f0"
   },
   "outputs": [
    {
     "name": "stdout",
     "output_type": "stream",
     "text": [
      "elapsed time: 1.2320246696472168\n",
      "Best solution {'x_11': 0.0, 'x_12': 0.0, 'x_13': 0.0, 'x_14': 0.0, 'x_15': 0.0, 'x_16': 1.0, 'x_17': 0.0, 'x_18': 0.0, 'x_19': 0.0, 'x_110': 0.0, 'x_111': 0.0, 'x_112': 0.0, 'x_113': 0.0, 'x_114': 0.0, 'x_115': 0.0, 'x_116': 0.0, 'x_117': 0.0, 'x_118': 0.0, 'x_119': 0.0, 'x_120': 0.0, 'x_21': 0.0, 'x_22': 0.0, 'x_23': 0.0, 'x_24': 0.0, 'x_25': 0.0, 'x_26': 0.0, 'x_27': 0.0, 'x_28': 0.0, 'x_29': 0.0, 'x_210': 0.0, 'x_211': 0.0, 'x_212': 0.0, 'x_213': 0.0, 'x_214': 0.0, 'x_215': 0.0, 'x_216': 0.0, 'x_217': 0.0, 'x_218': 0.0, 'x_219': 0.0, 'x_220': 1.0, 'x_31': 0.0, 'x_32': 0.0, 'x_33': 0.0, 'x_34': 0.0, 'x_35': 0.0, 'x_36': 0.0, 'x_37': 0.0, 'x_38': 0.0, 'x_39': 0.0, 'x_310': 0.0, 'x_311': 0.0, 'x_312': 0.0, 'x_313': 0.0, 'x_314': 0.0, 'x_315': 0.0, 'x_316': 1.0, 'x_317': 0.0, 'x_318': 0.0, 'x_319': 0.0, 'x_320': 0.0, 'x_41': 0.0, 'x_42': 0.0, 'x_43': 0.0, 'x_44': 1.0, 'x_45': 0.0, 'x_46': 0.0, 'x_47': 0.0, 'x_48': 0.0, 'x_49': 0.0, 'x_410': 0.0, 'x_411': 0.0, 'x_412': 0.0, 'x_413': 0.0, 'x_414': 0.0, 'x_415': 0.0, 'x_416': 0.0, 'x_417': 0.0, 'x_418': 0.0, 'x_419': 0.0, 'x_420': 0.0, 'x_51': 0.0, 'x_52': 0.0, 'x_53': 0.0, 'x_54': 0.0, 'x_55': 0.0, 'x_56': 0.0, 'x_57': 0.0, 'x_58': 1.0, 'x_59': 0.0, 'x_510': 0.0, 'x_511': 0.0, 'x_512': 0.0, 'x_513': 0.0, 'x_514': 0.0, 'x_515': 0.0, 'x_516': 0.0, 'x_517': 0.0, 'x_518': 0.0, 'x_519': 0.0, 'x_520': 0.0, 'x_61': 0.0, 'x_62': 0.0, 'x_63': 0.0, 'x_64': 0.0, 'x_65': 0.0, 'x_66': 0.0, 'x_67': 0.0, 'x_68': 0.0, 'x_69': 0.0, 'x_610': 0.0, 'x_611': 0.0, 'x_612': 0.0, 'x_613': 0.0, 'x_614': 0.0, 'x_615': 1.0, 'x_616': 0.0, 'x_617': 0.0, 'x_618': 0.0, 'x_619': 0.0, 'x_620': 0.0, 'x_71': 0.0, 'x_72': 1.0, 'x_73': 0.0, 'x_74': 0.0, 'x_75': 0.0, 'x_76': 0.0, 'x_77': 0.0, 'x_78': 0.0, 'x_79': 0.0, 'x_710': 0.0, 'x_711': 0.0, 'x_712': 0.0, 'x_713': 0.0, 'x_714': 0.0, 'x_715': 0.0, 'x_716': 0.0, 'x_717': 0.0, 'x_718': 0.0, 'x_719': 0.0, 'x_720': 0.0, 'x_81': 0.0, 'x_82': 0.0, 'x_83': 0.0, 'x_84': 0.0, 'x_85': 0.0, 'x_86': 0.0, 'x_87': 0.0, 'x_88': 0.0, 'x_89': 0.0, 'x_810': 0.0, 'x_811': 0.0, 'x_812': 0.0, 'x_813': 0.0, 'x_814': 0.0, 'x_815': 0.0, 'x_816': 0.0, 'x_817': 0.0, 'x_818': 0.0, 'x_819': 1.0, 'x_820': 0.0, 'x_91': 0.0, 'x_92': 0.0, 'x_93': 0.0, 'x_94': 0.0, 'x_95': 0.0, 'x_96': 0.0, 'x_97': 1.0, 'x_98': 0.0, 'x_99': 0.0, 'x_910': 0.0, 'x_911': 0.0, 'x_912': 0.0, 'x_913': 0.0, 'x_914': 0.0, 'x_915': 0.0, 'x_916': 0.0, 'x_917': 0.0, 'x_918': 0.0, 'x_919': 0.0, 'x_920': 0.0, 'x_101': 0.0, 'x_102': 0.0, 'x_103': 0.0, 'x_104': 0.0, 'x_105': 0.0, 'x_106': 0.0, 'x_107': 0.0, 'x_108': 0.0, 'x_109': 0.0, 'x_1010': 0.0, 'x_1011': 0.0, 'x_1012': 0.0, 'x_1013': 0.0, 'x_1014': 1.0, 'x_1015': 0.0, 'x_1016': 0.0, 'x_1017': 0.0, 'x_1018': 0.0, 'x_1019': 0.0, 'x_1020': 0.0, 'x_1110': 0.0, 'x_1111': 0.0, 'x_1112': 0.0, 'x_1113': 0.0, 'x_1114': 0.0, 'x_1115': 0.0, 'x_1116': 0.0, 'x_1117': 0.0, 'x_1118': 1.0, 'x_1119': 0.0, 'x_1120': 0.0, 'x_121': 0.0, 'x_122': 0.0, 'x_123': 0.0, 'x_124': 0.0, 'x_125': 1.0, 'x_126': 0.0, 'x_127': 0.0, 'x_128': 0.0, 'x_129': 0.0, 'x_1210': 0.0, 'x_1211': 0.0, 'x_1212': 0.0, 'x_1213': 0.0, 'x_1214': 0.0, 'x_1215': 0.0, 'x_1216': 0.0, 'x_1217': 0.0, 'x_1218': 0.0, 'x_1219': 0.0, 'x_1220': 0.0, 'x_131': 0.0, 'x_132': 0.0, 'x_133': 0.0, 'x_134': 0.0, 'x_135': 0.0, 'x_136': 0.0, 'x_137': 0.0, 'x_138': 0.0, 'x_139': 0.0, 'x_1310': 1.0, 'x_1311': 0.0, 'x_1312': 0.0, 'x_1313': 0.0, 'x_1314': 0.0, 'x_1315': 0.0, 'x_1316': 0.0, 'x_1317': 0.0, 'x_1318': 0.0, 'x_1319': 0.0, 'x_1320': 0.0, 'x_141': 1.0, 'x_142': 0.0, 'x_143': 0.0, 'x_144': 0.0, 'x_145': 0.0, 'x_146': 0.0, 'x_147': 0.0, 'x_148': 0.0, 'x_149': 0.0, 'x_1410': 0.0, 'x_1411': 0.0, 'x_1412': 0.0, 'x_1413': 0.0, 'x_1414': 0.0, 'x_1415': 0.0, 'x_1416': 0.0, 'x_1417': 0.0, 'x_1418': 0.0, 'x_1419': 0.0, 'x_1420': 0.0, 'x_151': 0.0, 'x_152': 0.0, 'x_153': 1.0, 'x_154': 0.0, 'x_155': 0.0, 'x_156': 0.0, 'x_157': 0.0, 'x_158': 0.0, 'x_159': 0.0, 'x_1510': 0.0, 'x_1511': 0.0, 'x_1512': 0.0, 'x_1513': 0.0, 'x_1514': 0.0, 'x_1515': 0.0, 'x_1516': 0.0, 'x_1517': 0.0, 'x_1518': 0.0, 'x_1519': 0.0, 'x_1520': 0.0, 'x_161': 0.0, 'x_162': 0.0, 'x_163': 0.0, 'x_164': 0.0, 'x_165': 0.0, 'x_166': 0.0, 'x_167': 0.0, 'x_168': 0.0, 'x_169': 0.0, 'x_1610': 0.0, 'x_1611': 0.0, 'x_1612': 1.0, 'x_1613': 0.0, 'x_1614': 0.0, 'x_1615': 0.0, 'x_1616': 0.0, 'x_1617': 0.0, 'x_1618': 0.0, 'x_1619': 0.0, 'x_1620': 0.0, 'x_171': 0.0, 'x_172': 0.0, 'x_173': 0.0, 'x_174': 0.0, 'x_175': 0.0, 'x_176': 0.0, 'x_177': 0.0, 'x_178': 0.0, 'x_179': 1.0, 'x_1710': 0.0, 'x_1711': 0.0, 'x_1712': 0.0, 'x_1713': 0.0, 'x_1714': 0.0, 'x_1715': 0.0, 'x_1716': 0.0, 'x_1717': 0.0, 'x_1718': 0.0, 'x_1719': 0.0, 'x_1720': 0.0, 'x_181': 0.0, 'x_182': 0.0, 'x_183': 0.0, 'x_184': 0.0, 'x_185': 0.0, 'x_186': 0.0, 'x_187': 0.0, 'x_188': 0.0, 'x_189': 0.0, 'x_1810': 0.0, 'x_1811': 0.0, 'x_1812': 0.0, 'x_1813': 0.0, 'x_1814': 0.0, 'x_1815': 0.0, 'x_1816': 0.0, 'x_1817': 1.0, 'x_1818': 0.0, 'x_1819': 0.0, 'x_1820': 0.0, 'x_191': 0.0, 'x_192': 0.0, 'x_193': 0.0, 'x_194': 0.0, 'x_195': 0.0, 'x_196': 0.0, 'x_197': 0.0, 'x_198': 0.0, 'x_199': 0.0, 'x_1910': 0.0, 'x_1911': 0.0, 'x_1912': 0.0, 'x_1913': 1.0, 'x_1914': 0.0, 'x_1915': 0.0, 'x_1916': 0.0, 'x_1917': 0.0, 'x_1918': 0.0, 'x_1919': 0.0, 'x_1920': 0.0, 'x_201': 0.0, 'x_202': 0.0, 'x_203': 0.0, 'x_204': 0.0, 'x_205': 0.0, 'x_206': 0.0, 'x_207': 0.0, 'x_208': 0.0, 'x_209': 0.0, 'x_2010': 0.0, 'x_2011': 1.0, 'x_2012': 0.0, 'x_2013': 0.0, 'x_2014': 0.0, 'x_2015': 0.0, 'x_2016': 0.0, 'x_2017': 0.0, 'x_2018': 0.0, 'x_2019': 0.0, 'x_2020': 0.0}\n",
      "Best value 1.0\n",
      "['-', '-', '-', '-', '-', 'Q', '-', '-', '-', '-', '-', '-', '-', '-', '-', '-', '-', '-', '-', '-']\n",
      "['-', '-', '-', '-', '-', '-', '-', '-', '-', '-', '-', '-', '-', '-', '-', '-', '-', '-', '-', 'Q']\n",
      "['-', '-', '-', '-', '-', '-', '-', '-', '-', '-', '-', '-', '-', '-', '-', 'Q', '-', '-', '-', '-']\n",
      "['-', '-', '-', 'Q', '-', '-', '-', '-', '-', '-', '-', '-', '-', '-', '-', '-', '-', '-', '-', '-']\n",
      "['-', '-', '-', '-', '-', '-', '-', 'Q', '-', '-', '-', '-', '-', '-', '-', '-', '-', '-', '-', '-']\n",
      "['-', '-', '-', '-', '-', '-', '-', '-', '-', '-', '-', '-', '-', '-', 'Q', '-', '-', '-', '-', '-']\n",
      "['-', 'Q', '-', '-', '-', '-', '-', '-', '-', '-', '-', '-', '-', '-', '-', '-', '-', '-', '-', '-']\n",
      "['-', '-', '-', '-', '-', '-', '-', '-', '-', '-', '-', '-', '-', '-', '-', '-', '-', '-', 'Q', '-']\n",
      "['-', '-', '-', '-', '-', '-', 'Q', '-', '-', '-', '-', '-', '-', '-', '-', '-', '-', '-', '-', '-']\n",
      "['-', '-', '-', '-', '-', '-', '-', '-', '-', '-', '-', '-', '-', 'Q', '-', '-', '-', '-', '-', '-']\n",
      "['-', '-', '-', '-', '-', '-', '-', '-', '-', '-', '-', '-', '-', '-', '-', '-', '-', 'Q', '-', '-']\n",
      "['-', '-', '-', '-', 'Q', '-', '-', '-', '-', '-', '-', '-', '-', '-', '-', '-', '-', '-', '-', '-']\n",
      "['-', '-', '-', '-', '-', '-', '-', '-', '-', 'Q', '-', '-', '-', '-', '-', '-', '-', '-', '-', '-']\n",
      "['Q', '-', '-', '-', '-', '-', '-', '-', '-', '-', '-', '-', '-', '-', '-', '-', '-', '-', '-', '-']\n",
      "['-', '-', 'Q', '-', '-', '-', '-', '-', '-', '-', '-', '-', '-', '-', '-', '-', '-', '-', '-', '-']\n",
      "['-', '-', '-', '-', '-', '-', '-', '-', '-', '-', '-', 'Q', '-', '-', '-', '-', '-', '-', '-', '-']\n",
      "['-', '-', '-', '-', '-', '-', '-', '-', 'Q', '-', '-', '-', '-', '-', '-', '-', '-', '-', '-', '-']\n",
      "['-', '-', '-', '-', '-', '-', '-', '-', '-', '-', '-', '-', '-', '-', '-', '-', 'Q', '-', '-', '-']\n",
      "['-', '-', '-', '-', '-', '-', '-', '-', '-', '-', '-', '-', 'Q', '-', '-', '-', '-', '-', '-', '-']\n",
      "['-', '-', '-', '-', '-', '-', '-', '-', '-', '-', 'Q', '-', '-', '-', '-', '-', '-', '-', '-', '-']\n"
     ]
    }
   ],
   "source": [
    "n_queens = 20  # TODO : experiment with the number of queens\n",
    "model = get_NQueens_model(n_queens)\n",
    "initial_time = time.time()\n",
    "best_sol, best_val, partial_frontier_history = solve_model(model)\n",
    "print(f\"elapsed time: {time.time() - initial_time}\")\n",
    "\n",
    "print(\"Best solution\", best_sol)\n",
    "print(\"Best value\", best_val)\n",
    "\n",
    "for i in range(1, n_queens+1):\n",
    "  line = []\n",
    "  for j in range(1, n_queens+1):\n",
    "    line.append('Q' if best_sol[f\"x_{i}{j}\"]==1 else '-')\n",
    "  print(line)"
   ]
  },
  {
   "cell_type": "markdown",
   "metadata": {
    "id": "j_pyfmMMcJ-E"
   },
   "source": [
    "### Exercise 2/3: Traveling Salesman Problem | ILP"
   ]
  },
  {
   "cell_type": "markdown",
   "metadata": {
    "id": "S38r6-oYcQA2"
   },
   "source": [
    "The goal of the TSP is to find the shortest Hamiltonian cycle (a cycle that visits each node only once) on a graph of N nodes. Solve the ILP problem and visualize a solution.\n",
    "\n",
    "Try to model the problem from this [link](https://phabi.ch/2021/10/08/solving-tsp-with-linear-programming-and-google-or-tools/)\n",
    "\n",
    "### Indices:\n",
    "$i, j \\in I = 1,2,3,....,n$\\\n",
    "$n$ = number of nodes\n",
    "\n",
    "### Decision variables:\n",
    "$x_{i,j}$ = 1 if node j is visited right after node i, 0 otherwise\n",
    "\n",
    "### Auxiliary variables:\n",
    "$u_i$ it enumerate the stops in sequential order, used for the subtour elimination constraint\n",
    "\n",
    "### Parameters:\n",
    "$d_{i,j}$ = distance to reach node j from node i (and viceversa)\n",
    "\n",
    "### Constraints:\n",
    "Leave every point for exactly one successor\\\n",
    "$\\forall i \\in I : \\Sigma_{j} x_{i,j} = 1$\n",
    "\n",
    "Reach every point from exactly one predecessor\\\n",
    "$\\forall j \\in I : \\Sigma_{i} x_{i,j} = 1$\n",
    "\n",
    "\n",
    "*For the following constraints see [2.2. The MTZ Formulation](https://epubs.siam.org/doi/pdf/10.1137/S00361445023685) for a further explanation*\n",
    "\n",
    "Start at the first node\\\n",
    "$u_1 = 1$\n",
    "\n",
    "Since we have $n$ locations, all subsequent $u_i$ must have assigned a value between 2 and $n$\\\n",
    "$\\forall i \\ne 1 : 2 \\le u_i \\le n$\n",
    "\n",
    "The index of every succeeding stop gets assigned an index which is at least 1 larger than the predecessor’s index\\\n",
    "$\\forall i \\ne 1, \\forall j \\ne 1 : u_i - u_j + 1 \\le (n-1)(1-x_{i,j})$\n",
    "\n",
    "### Objective Function:\n",
    "minimize $\\Sigma_{(i,j)\\in(I \\times I)} x_{i,j}d_{i,j}$"
   ]
  },
  {
   "cell_type": "code",
   "execution_count": 6,
   "metadata": {
    "id": "6llJtkaBcR8q"
   },
   "outputs": [],
   "source": [
    "# randomly create a distance matrix defining the distance to reach node j from node i\n",
    "# Since our problem is symmetrical, the vaues in the distance matrix are symmetrical with respect to the diagonal\n",
    "def create_distance_matrix(num_nodes):\n",
    "  distance = np.zeros((num_nodes, num_nodes))\n",
    "  for i in range(num_nodes):\n",
    "    for j in range(i+1, num_nodes):\n",
    "        rand = np.round(np.random.rand(), 2)\n",
    "        distance[i][j] = rand\n",
    "        distance[j][i] = rand\n",
    "  return distance\n",
    "\n",
    "def get_directed_graph_from_weight_matrix(matrix, n_nodes):\n",
    "    G = nx.DiGraph()\n",
    "    G.add_nodes_from([i for i in range(1, n_nodes+1)])\n",
    "    for i in range(n_nodes):\n",
    "        for j in range(n_nodes):\n",
    "            if(matrix[i][j] > 0):\n",
    "              G.add_edge(i+1, j+1, weight=matrix[i][j])\n",
    "    return G\n",
    "\n",
    "def draw_graph(matrix, n_nodes, solution = None):\n",
    "    print(solution)\n",
    "    G = get_directed_graph_from_weight_matrix(matrix, n_nodes)\n",
    "    pos = nx.circular_layout(G)\n",
    "    edge_color = 'k'\n",
    "    if(solution is not None):\n",
    "      edge_color = []\n",
    "      for i in range(n_nodes):\n",
    "        for j in range(n_nodes):\n",
    "          if(matrix[i][j]>0):\n",
    "            edge_color.append(\"red\" if solution[f\"x_{i+1}{j+1}\"]==1 else \"black\")\n",
    "    nx.draw(G, pos, with_labels=True, connectionstyle='arc3,rad=0.15', edge_color=edge_color)\n",
    "    edge_labels = dict(((u, v), \"{start}->{end} w:{weight:.2f}\".format(start=u, end=v, weight=d[\"weight\"])) for u, v, d in G.edges(data=True))\n",
    "    nx.draw_networkx_edge_labels(G, pos, edge_labels = edge_labels, label_pos=0.7, font_size=8)\n",
    "    plt.show()"
   ]
  },
  {
   "cell_type": "code",
   "execution_count": 7,
   "metadata": {},
   "outputs": [],
   "source": [
    "def get_TSP_model(matrix, n_nodes):\n",
    "    model = Model(\"TSP\")\n",
    "    x  = {f\"x_{i}{j}\": model.addVar(vtype='i', name=f\"x_{i}{j}\",lb=0,ub=1) for i in range(1,n_nodes+1) for j in range(1,n_nodes+1)}\n",
    "    u = {f\"u_1\": model.addVar(vtype='C', name=f\"u_1\", lb=1, ub=1)}\n",
    "    u.update({f\"u_{i}\": model.addVar(vtype='C', name=f\"u_{i}\", lb=2, ub=n_nodes) for i in range(2, n_nodes+1)})\n",
    "    \n",
    "    # Leave every point for exactly one successor\n",
    "    for i in range(1, n_nodes+1):\n",
    "        model.addCons(quicksum(x[f\"x_{i}{j}\"] for j in range(1, n_nodes+1)) == 1)\n",
    "\n",
    "    # Reach every point from exactly one predecessor\n",
    "    for j in range(1, n_nodes+1):\n",
    "        model.addCons(quicksum(x[f\"x_{i}{j}\"] for i in range(1, n_nodes+1)) == 1)\n",
    "\n",
    "\n",
    "    # Subtour elimination constraints\n",
    "    for i in range(2, n_nodes+1):\n",
    "        for j in range(2, n_nodes+1):\n",
    "            model.addCons((u[f\"u_{i}\"] - u[f\"u_{j}\"] +1 )  <= (n_nodes - 1)*(1 - x[f\"x_{i}{j}\"]) )\n",
    "\n",
    "    # Objective function\n",
    "    model.setObjective(quicksum(x[f\"x_{i}{j}\"] * matrix[i-1][j-1] for i in range(1, n_nodes+1) for j in range(1, n_nodes+1)) , \"minimize\")\n",
    "\n",
    "    return model\n"
   ]
  },
  {
   "cell_type": "code",
   "execution_count": 8,
   "metadata": {
    "colab": {
     "base_uri": "https://localhost:8080/",
     "height": 572
    },
    "id": "yH7icfaDmjN6",
    "outputId": "5f715712-7931-4686-f8ff-14153ad5ed73"
   },
   "outputs": [
    {
     "name": "stdout",
     "output_type": "stream",
     "text": [
      "Best solution {'x_11': 0, 'x_12': 0, 'x_13': 0, 'x_14': 1, 'x_21': 1, 'x_22': 0, 'x_23': 0, 'x_24': 0, 'x_31': 0, 'x_32': 1, 'x_33': 0, 'x_34': 0, 'x_41': 0, 'x_42': 0, 'x_43': 1, 'x_44': 0, 'u_1': 1, 'u_2': 4, 'u_3': 3, 'u_4': 2}\n",
      "Best value 2.0300000000000002\n",
      "{'x_11': 0, 'x_12': 0, 'x_13': 0, 'x_14': 1, 'x_21': 1, 'x_22': 0, 'x_23': 0, 'x_24': 0, 'x_31': 0, 'x_32': 1, 'x_33': 0, 'x_34': 0, 'x_41': 0, 'x_42': 0, 'x_43': 1, 'x_44': 0, 'u_1': 1, 'u_2': 4, 'u_3': 3, 'u_4': 2}\n"
     ]
    },
    {
     "data": {
      "image/png": "[encoded data removed]",
      "text/plain": [
       "<Figure size 640x480 with 1 Axes>"
      ]
     },
     "metadata": {},
     "output_type": "display_data"
    }
   ],
   "source": [
    "n_nodes = 4 #number of nodes\n",
    "\n",
    "matrix = create_distance_matrix(n_nodes)\n",
    "\n",
    "model = get_TSP_model(matrix, n_nodes)\n",
    "best_sol, best_val, partial_frontier_history = solve_model(model)\n",
    "\n",
    "\n",
    "for sol in best_sol:\n",
    "    best_sol[sol] = int(best_sol[sol])\n",
    "print(\"Best solution\", best_sol)\n",
    "print(\"Best value\", best_val)\n",
    "\n",
    "#draw_graph(matrix, n_nodes)\n",
    "draw_graph(matrix, n_nodes, best_sol)\n"
   ]
  },
  {
   "cell_type": "markdown",
   "metadata": {
    "id": "1oSVSc8-n8Hj"
   },
   "source": [
    "### Exercise 3/3: Knapsack Problem | DP"
   ]
  },
  {
   "cell_type": "markdown",
   "metadata": {
    "id": "qveVBInun-CI"
   },
   "source": [
    "Solve the Knapsack problem using DP.  You can use the Class from lab 5.\n",
    "\n",
    "Run the solution multiple time, and change the total capacity and the number of objects and show how the number of subproblems changes."
   ]
  },
  {
   "cell_type": "code",
   "execution_count": 9,
   "metadata": {
    "id": "-gYy4EMqm50_"
   },
   "outputs": [],
   "source": [
    "class Knapsack_0_1:\n",
    "    def __init__(self, capacity = 10, items = [\n",
    "            {'name': 'apple', 'value': 1, 'volume': 2},\n",
    "            {'name': 'pear', 'value': 2, 'volume': 2},\n",
    "            {'name': 'banana', 'value': 2, 'volume': 2},\n",
    "            {'name': 'watermelon', 'value': 5, 'volume': 10},\n",
    "            {'name': 'orange', 'value': 3, 'volume': 2},\n",
    "            {'name': 'avocado', 'value': 3, 'volume': 2},\n",
    "            {'name': 'blueberry', 'value': 3, 'volume': 1},\n",
    "            {'name': 'coconut', 'value': 4, 'volume': 3},\n",
    "            {'name': 'cherry', 'value': 2, 'volume': 1},\n",
    "            {'name': 'apricot', 'value': 1, 'volume': 1}\n",
    "        ]):\n",
    "        self._items = items\n",
    "        self._BAG_CAPACITY = capacity\n",
    "\n",
    "    def getCapacity(self):\n",
    "        return self._BAG_CAPACITY\n",
    "\n",
    "    def getItemsNumber(self):\n",
    "        return len(self._items)\n",
    "\n",
    "    def getWeightandValue(self, ind):\n",
    "        w_i = self._items[ind][\"volume\"]\n",
    "        c_i = self._items[ind][\"value\"]\n",
    "        return (w_i, c_i)\n",
    "\n",
    "    def _get_value(self, solution):\n",
    "        cur_cap = self._BAG_CAPACITY\n",
    "        cur_val = 0\n",
    "        for i, v in enumerate(solution):\n",
    "            if v == 1:\n",
    "                cur_val += self._items[i]['value']\n",
    "                cur_cap -= self._items[i]['volume']\n",
    "            if cur_cap < 0:\n",
    "                return 0\n",
    "        return cur_val\n",
    "\n",
    "    def __call__(self, solution):\n",
    "        value = self._get_value(solution)\n",
    "        return value"
   ]
  },
  {
   "cell_type": "code",
   "execution_count": 10,
   "metadata": {
    "id": "YyDl1uyVoGi5"
   },
   "outputs": [],
   "source": [
    "def dp_solution(problem):\n",
    "  K = problem.getCapacity()\n",
    "  n = problem.getItemsNumber()\n",
    "  v = np.zeros((K+1, n+1))\n",
    "  S = np.zeros((K+1, n+1))\n",
    "  sub_problem = 0\n",
    "\n",
    "  # TODO\n",
    "\n",
    "  pass"
   ]
  },
  {
   "cell_type": "code",
   "execution_count": 11,
   "metadata": {
    "id": "Ybf-Uz4dogtG"
   },
   "outputs": [
    {
     "ename": "TypeError",
     "evalue": "cannot unpack non-iterable NoneType object",
     "output_type": "error",
     "traceback": [
      "\u001b[1;31m---------------------------------------------------------------------------\u001b[0m",
      "\u001b[1;31mTypeError\u001b[0m                                 Traceback (most recent call last)",
      "Cell \u001b[1;32mIn[11], line 2\u001b[0m\n\u001b[0;32m      1\u001b[0m problem \u001b[38;5;241m=\u001b[39m Knapsack_0_1()\n\u001b[1;32m----> 2\u001b[0m sol, value, sub_problem \u001b[38;5;241m=\u001b[39m dp_solution(problem)\n\u001b[0;32m      3\u001b[0m \u001b[38;5;28mprint\u001b[39m(\u001b[38;5;124m\"\u001b[39m\u001b[38;5;124mSolution\u001b[39m\u001b[38;5;124m\"\u001b[39m, sol)\n\u001b[0;32m      4\u001b[0m \u001b[38;5;28mprint\u001b[39m(\u001b[38;5;124m\"\u001b[39m\u001b[38;5;124mValue\u001b[39m\u001b[38;5;124m\"\u001b[39m, value)\n",
      "\u001b[1;31mTypeError\u001b[0m: cannot unpack non-iterable NoneType object"
     ]
    }
   ],
   "source": [
    "problem = Knapsack_0_1()\n",
    "sol, value, sub_problem = dp_solution(problem)\n",
    "print(\"Solution\", sol)\n",
    "print(\"Value\", value)\n",
    "print(\"Subproblem number\", sub_problem)"
   ]
  },
  {
   "cell_type": "code",
   "execution_count": null,
   "metadata": {
    "id": "yCUPl1FNohoT"
   },
   "outputs": [],
   "source": [
    "# TODO : try with different parameters (capacity, items)"
   ]
  }
 ],
 "metadata": {
  "colab": {
   "provenance": []
  },
  "kernelspec": {
   "display_name": "Python 3 (ipykernel)",
   "language": "python",
   "name": "python3"
  },
  "language_info": {
   "codemirror_mode": {
    "name": "ipython",
    "version": 3
   },
   "file_extension": ".py",
   "mimetype": "text/x-python",
   "name": "python",
   "nbconvert_exporter": "python",
   "pygments_lexer": "ipython3",
   "version": "3.11.7"
  }
 },
 "nbformat": 4,
 "nbformat_minor": 1
}
