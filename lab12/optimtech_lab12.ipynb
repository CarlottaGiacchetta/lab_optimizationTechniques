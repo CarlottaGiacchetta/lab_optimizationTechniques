{
 "cells": [
  {
   "cell_type": "markdown",
   "metadata": {
    "id": "yYejvJknRjtE"
   },
   "source": [
    "# Lab. 12: Robust Optimization\n",
    "\n",
    "## Introduction\n",
    "\n",
    "#### <u>In this lab, we will see some applications of robust optimization, namely a modified version of the Knapsack 0/1 problem, and the portfolio optimization problem.</u>\n",
    "\n",
    "Your job in this lab is to implement the missing functions, and study how different functions lead to different outcomes from both the point of view of the objective value and the probability of violating the constraints of the problem.\n",
    "\n",
    "The examples are taken from https://xiongpengnus.github.io/rsome/ro_rsome, using the RSOME library for robust optimization."
   ]
  },
  {
   "cell_type": "code",
   "execution_count": 61,
   "metadata": {
    "cellView": "form",
    "id": "_n1A6kv4Rfwy"
   },
   "outputs": [],
   "source": [
    "# @title Imports\n",
    "\n",
    "!pip install -q rsome\n",
    "!pip install -q gurobipy\n",
    "\n",
    "from rsome import ro\n",
    "from rsome import grb_solver as grb\n",
    "import rsome as rso\n",
    "import numpy as np\n",
    "import numpy.random as rd\n",
    "import matplotlib.pyplot as plt\n",
    "from math import floor\n",
    "import pprint"
   ]
  },
  {
   "cell_type": "markdown",
   "metadata": {
    "id": "UGFYrbZ6T45M"
   },
   "source": [
    "## Exercises"
   ]
  },
  {
   "cell_type": "markdown",
   "metadata": {
    "id": "IiO8U4xlT8T6"
   },
   "source": [
    "### Exercise 1/2: Modified Knapsack 0/1 Problem"
   ]
  },
  {
   "cell_type": "markdown",
   "metadata": {
    "id": "TUFwE8lbUxVk"
   },
   "source": [
    "In this exercise, we will solve the Knapsack problem (seen in the previous labs), slightly modified in order to have uncertainties about the volumes of the items.\n",
    "\n",
    "The uncertainty about the volumes is not the same for all the items. They are defined by  δ , defined as a fraction of the size of the volumes of the items.\n",
    "\n",
    "In this exercise, you are asked to implement the definition of the uncertainty set in order to have both an ellipsoidal uncertainty set and a finite uncertainty set.\n",
    "\n",
    "#### Task\n",
    "Implement different sizes for the ellipsoid and different interval for the finite set and compare the objective values and the probability of violating the constraints with the different setups."
   ]
  },
  {
   "cell_type": "code",
   "execution_count": 62,
   "metadata": {
    "cellView": "form",
    "id": "hayOT5DzR5cW"
   },
   "outputs": [],
   "source": [
    "# @title Helper Functions\n",
    "\n",
    "items = [\n",
    "    {'name': 'apple', 'value': 1, 'volume': 2},\n",
    "    {'name': 'pear', 'value': 2, 'volume': 2},\n",
    "    {'name': 'banana', 'value': 2, 'volume': 2},\n",
    "    {'name': 'watermelon', 'value': 5, 'volume': 10},\n",
    "    {'name': 'orange', 'value': 3, 'volume': 2},\n",
    "    {'name': 'avocado', 'value': 3, 'volume': 2},\n",
    "    {'name': 'blueberry', 'value': 3, 'volume': 1},\n",
    "    {'name': 'coconut', 'value': 4, 'volume': 3},\n",
    "    {'name': 'cherry', 'value': 2, 'volume': 1},\n",
    "    {'name': 'apricot', 'value': 1, 'volume': 1},\n",
    "    {'name': 'cioccolato', 'value': 10, 'volume': 5},\n",
    "    {'name': 'caramelle', 'value': 8, 'volume': 3},\n",
    "    {'name': 'torta di mele', 'value': 3, 'volume': 2},\n",
    "    {'name': 'salame al cioccolato', 'value': 5, 'volume': 4},\n",
    "    {'name': 'zuppa', 'value': 1, 'volume': 6},\n",
    "    {'name': 'muesli al cioccolato', 'value': 9, 'volume': 5},\n",
    "    {'name': 'succhino alla pera', 'value': 3, 'volume': 2}\n",
    "]\n",
    "\n",
    "N = len(items)\n",
    "b = 10\n",
    "\n",
    "c = np.array([i['value'] for i in items]).flatten()  # profit coefficients\n",
    "w = np.array([i['volume'] for i in items]).flatten()  # weight coefficients\n",
    "\n",
    "delta = 0.2*w  # maximum deviations\n",
    "\n",
    "def robust(get_uncertainty_set, r):\n",
    "    \"\"\"\n",
    "    The function robust implements the robust optimiztion model,\n",
    "    given the budget of uncertainty r\n",
    "    \"\"\"\n",
    "\n",
    "    model = ro.Model('robust')\n",
    "    x = model.dvar(N, vtype='B')  # Boolean variable x (0: leave, 1: keep)\n",
    "    z = model.rvar(N)             # Random variable\n",
    "\n",
    "    # Uncertainty set\n",
    "    z_set = get_uncertainty_set(z, r)\n",
    "    model.max(c @ x)              # Maximize the value of the knapsack (i.e., the dot product between the values and x)\n",
    "\n",
    "    # Add constraint: the maximum (uncertain) volume is smaller than the budget\n",
    "    # in ellipsoidal uncertainty set, 'M' is 'delta' and 'u' is 'z'\n",
    "    # in finite uncertainty set, p1 = w + z1*delta => z1 = (p1 - w)/delta\n",
    "    model.st(((w + z*delta) @ x <= b).forall(z_set))\n",
    "    #consider the optimization with constraint \"Ax <= b\", here A = w + z*delta\n",
    "\n",
    "    # Solve\n",
    "    model.solve(grb, display=False)\n",
    "\n",
    "    return model.get(), x.get()    # Return the optimal objective and solution\n",
    "\n",
    "\n",
    "def sim(x_sol, zs):\n",
    "    \"\"\"\n",
    "    The function sim is for calculating the probability of violation\n",
    "    via simulations.\n",
    "        x_sol: solution of the Knapsack problem\n",
    "        zs: random sample of the random variable z\n",
    "    \"\"\"\n",
    "\n",
    "    ws = w + zs*delta   # random samples of uncertain weights\n",
    "\n",
    "    return (ws @ x_sol > b).mean()\n",
    "\n",
    "\"\"\"\n",
    "Define an uncertainty set. See the following sources:\n",
    "- Ellipsoidal: https://xiongpengnus.github.io/rsome/ro_rsome#section2.2\n",
    "- Finite Uncertainty Set\n",
    "\"\"\"\n",
    "\n",
    "def ellipsoidal_uncertainty_set(z, r):\n",
    "\n",
    "    z_set = (rso.norm(z, 2) <= r)\n",
    "    return z_set\n",
    "\n",
    "def finite_uncertainty_set(z, r):\n",
    "    z_set = (\n",
    "        (z <= r[0], z >= r[0]) or\n",
    "        (z <= r[1], z >= r[1]) or\n",
    "        (z <= r[2], z >= r[2])\n",
    "    )\n",
    "    return z_set\n",
    "\n",
    "def finite_uncertainty_set_big(z, r):\n",
    "    z_set = (\n",
    "        (z <= r[0], z >= r[0]) or\n",
    "        (z <= r[1], z >= r[1]) or\n",
    "        (z <= r[2], z >= r[2]) or\n",
    "        (z <= r[3], z >= r[3]) or\n",
    "        (z <= r[4], z >= r[4]) or\n",
    "        (z <= r[5], z >= r[5])\n",
    "    )\n",
    "    return z_set\n",
    "\n",
    "def finite_uncertainty_set_hardcoded(z, r):\n",
    "    z_set = (\n",
    "        (z <= 0, z >= 0) or\n",
    "        (z <= 1, z >= 1) or\n",
    "        (z <= 2, z >= 2) or\n",
    "        (z <= 3, z >= 3) or\n",
    "        (z <= 4, z >= 4) or\n",
    "        (z <= 5, z >= 5)\n",
    "    )\n",
    "    return z_set"
   ]
  },
  {
   "cell_type": "markdown",
   "metadata": {},
   "source": [
    "## ellipsoide\n",
    "The model considers the worst-case scenario within the ellipsoid. For example, the constraint \n",
    "(w+z⋅δ)⋅x≤b ensures that the solution x remains feasible for any z within the ellipsoid.\n",
    "\n",
    "With a small radius you get higher values but have a much higher probability of violating the constraint because you give less weight to uncertainty"
   ]
  },
  {
   "cell_type": "code",
   "execution_count": 63,
   "metadata": {
    "colab": {
     "base_uri": "https://localhost:8080/"
    },
    "id": "jIRcUB3AUla4",
    "outputId": "b79581c9-57ee-415c-c0e3-031b0a187a79"
   },
   "outputs": [
    {
     "name": "stdout",
     "output_type": "stream",
     "text": [
      "raggio:  0\n",
      "Content of the knapsack:\n",
      "\tblueberry\n",
      "\tcherry\n",
      "\tcioccolato\n",
      "\tcaramelle\n",
      "Total value: 23.0. Probability of violation: 0.49815\n",
      "\n",
      "\n",
      "\n",
      "raggio:  1\n",
      "Content of the knapsack:\n",
      "\tblueberry\n",
      "\tcherry\n",
      "\tcaramelle\n",
      "\ttorta di mele\n",
      "\tsucchino alla pera\n",
      "Total value: 19.0. Probability of violation: 0.0225\n",
      "\n",
      "\n",
      "\n",
      "raggio:  3\n",
      "Content of the knapsack:\n",
      "\tblueberry\n",
      "\tcherry\n",
      "\tcaramelle\n",
      "\tsucchino alla pera\n",
      "Total value: 16.0. Probability of violation: 0.0\n",
      "\n",
      "\n",
      "\n",
      "raggio:  5\n",
      "Content of the knapsack:\n",
      "\tblueberry\n",
      "\tcaramelle\n",
      "\ttorta di mele\n",
      "Total value: 14.0. Probability of violation: 0.0\n",
      "\n",
      "\n",
      "\n",
      "raggio:  10\n",
      "Content of the knapsack:\n",
      "\torange\n",
      "\tblueberry\n",
      "\tcherry\n",
      "Total value: 8.0. Probability of violation: 0.0\n",
      "\n",
      "\n",
      "\n"
     ]
    }
   ],
   "source": [
    "num_samples = 20000\n",
    "zs = np.random.uniform(-1, 1, (num_samples, N))  # Generate random samples for z\n",
    "\n",
    "for r in [0, 1, 3, 5, 10]:\n",
    "    print('raggio: ',r)\n",
    "    objective_value, solution = robust(ellipsoidal_uncertainty_set, r)\n",
    "    prob_violation = sim(solution, zs)\n",
    "\n",
    "    print(f'Content of the knapsack:')\n",
    "    for i, value in enumerate(solution):\n",
    "        if value:\n",
    "            print(f'\\t{items[i][\"name\"]}')\n",
    "    print(f'Total value: {objective_value}. Probability of violation: {prob_violation}')\n",
    "    print('\\n\\n')"
   ]
  },
  {
   "cell_type": "markdown",
   "metadata": {},
   "source": [
    "## finite set\n",
    "\n",
    "The model includes constraints for each scenario in the finite set. For example, if the uncertainty set consists of scenarios, the constraint becomes (w+zi​⋅δ)⋅x≤b for each zi"
   ]
  },
  {
   "cell_type": "code",
   "execution_count": 69,
   "metadata": {},
   "outputs": [
    {
     "name": "stdout",
     "output_type": "stream",
     "text": [
      "r:  [0.001, 1, 10]\n",
      "Content of the knapsack:\n",
      "\tblueberry\n",
      "\tcioccolato\n",
      "\tcaramelle\n",
      "Total value: 21.0. Probability of violation: 0.0786\n",
      "Total value medio: 21.0. Probability of violation medio: 0.07784300000000001 +- 3.9108509999999985e-06\n",
      "\n",
      "\n",
      "r:  [5, 7, 9]\n",
      "Content of the knapsack:\n",
      "\tblueberry\n",
      "\tcherry\n",
      "\tcaramelle\n",
      "Total value: 13.0. Probability of violation: 0.0\n",
      "Total value medio: 13.0. Probability of violation medio: 0.0 +- 0.0\n",
      "\n",
      "\n",
      "r:  [0.1, 0.3, 0.5]\n",
      "Content of the knapsack:\n",
      "\tblueberry\n",
      "\tcioccolato\n",
      "\tcaramelle\n",
      "Total value: 21.0. Probability of violation: 0.07775\n",
      "Total value medio: 21.0. Probability of violation medio: 0.07757499999999999 +- 4.258825e-06\n",
      "\n",
      "\n",
      "r:  [0.0001, 0.1, 0.01]\n",
      "Content of the knapsack:\n",
      "\tblueberry\n",
      "\tcioccolato\n",
      "\tcaramelle\n",
      "Total value: 21.0. Probability of violation: 0.0784\n",
      "Total value medio: 21.0. Probability of violation medio: 0.07763300000000001 +- 3.480510999999999e-06\n",
      "\n",
      "\n"
     ]
    }
   ],
   "source": [
    "import numpy as np\n",
    "\n",
    "num_samples = 20000\n",
    "zs = np.random.uniform(-1, 1, (num_samples, N))  # Generate random samples for z\n",
    "\n",
    "\n",
    "for r in [[0.001, 1, 10], [5, 7, 9], [0.1, 0.3, 0.5], [0.0001, 0.1, 0.01]]:\n",
    "    valori = []\n",
    "    probViolation = []\n",
    "    print('r: ',r)\n",
    "    for k in range(100):\n",
    "        zs = np.random.uniform(-1, 1, (num_samples, N))  # Generate random samples for z\n",
    "        objective_value, solution = robust(finite_uncertainty_set, r)\n",
    "        prob_violation = sim(solution, zs)\n",
    "        if k == 3:\n",
    "            print(f'Content of the knapsack:')\n",
    "            for i, value in enumerate(solution):\n",
    "                if value:\n",
    "                    print(f'\\t{items[i][\"name\"]}')\n",
    "            print(f'Total value: {objective_value}. Probability of violation: {prob_violation}')\n",
    "        valori.append(objective_value)\n",
    "        probViolation.append(prob_violation)\n",
    "    \n",
    "    print(f'Total value medio: {np.mean(valori)}. Probability of violation medio: {np.mean(probViolation)} +- {np.var(probViolation)}\\n\\n')\n",
    "\n",
    "    "
   ]
  },
  {
   "cell_type": "code",
   "execution_count": 73,
   "metadata": {},
   "outputs": [
    {
     "name": "stdout",
     "output_type": "stream",
     "text": [
      "r:  [10, 0.0001, 0.001, 1, 5]\n",
      "Content of the knapsack:\n",
      "\tcaramelle\n",
      "Total value: 8.0. Probability of violation: 0.0\n",
      "Total value medio: 8.0. Probability of violation medio: 0.0 +- 0.0\n",
      "\n",
      "\n",
      "r:  [5, 0.1, 0.3, 0.5, 7, 9]\n",
      "Content of the knapsack:\n",
      "\tblueberry\n",
      "\tcherry\n",
      "\tcaramelle\n",
      "Total value: 13.0. Probability of violation: 0.0\n",
      "Total value medio: 13.0. Probability of violation medio: 0.0 +- 0.0\n",
      "\n",
      "\n",
      "r:  [1e-08, 0.0001, 0.1, 0.01, 0.001, 1]\n",
      "Content of the knapsack:\n",
      "\tblueberry\n",
      "\tcherry\n",
      "\tcioccolato\n",
      "\tcaramelle\n",
      "Total value: 22.999999959999997. Probability of violation: 0.49905\n",
      "Total value medio: 22.999999959999997. Probability of violation medio: 0.500046 +- 1.2119384000000011e-05\n",
      "\n",
      "\n"
     ]
    }
   ],
   "source": [
    "for r in [[10, 0.0001, 0.001, 1,  5], [5, 0.1, 0.3, 0.5, 7, 9], [0.00000001, 0.0001, 0.1, 0.01, 0.001, 1]]:#, [5, 7, 9], [0.1, 0.3, 0.5], [0.0001, 0.1, 0.01]\n",
    "    valori = []\n",
    "    probViolation = []\n",
    "    print('r: ',r)\n",
    "    for k in range(100):\n",
    "        zs = np.random.uniform(-1, 1, (num_samples, N))  # Generate random samples for z\n",
    "        objective_value, solution = robust(finite_uncertainty_set_big, r)\n",
    "        prob_violation = sim(solution, zs)\n",
    "        if k == 3:\n",
    "            print(f'Content of the knapsack:')\n",
    "            for i, value in enumerate(solution):\n",
    "                if value:\n",
    "                    print(f'\\t{items[i][\"name\"]}')\n",
    "            print(f'Total value: {objective_value}. Probability of violation: {prob_violation}')\n",
    "        valori.append(objective_value)\n",
    "        probViolation.append(prob_violation)\n",
    "    \n",
    "    print(f'Total value medio: {np.mean(valori)}. Probability of violation medio: {np.mean(probViolation)} +- {np.var(probViolation)}\\n\\n')\n",
    "\n",
    "    "
   ]
  },
  {
   "cell_type": "markdown",
   "metadata": {
    "id": "dxmDzaODT2rr"
   },
   "source": [
    "### Exercise 2/2: Robust Portfolio Optimization"
   ]
  },
  {
   "cell_type": "markdown",
   "metadata": {
    "id": "AY3agwqwU50v"
   },
   "source": [
    "In this problem, we want to build a portfolio (e.g., of stocks), by using robust approaches.\n",
    "\n",
    "To be more specific, in this problem we have a set of fictionary stocks, each of which has different means and deviations for the returns.\n",
    "\n",
    "#### TASK\n",
    "Your job here is to implement a box uncertainty set to robustly optimize the portfolio. Try different values for the box in order to study how the uncertainty affects the objective value of and the number of different stocks chosen."
   ]
  },
  {
   "cell_type": "code",
   "execution_count": 66,
   "metadata": {
    "cellView": "form",
    "id": "wtIuHm2oU5Zy"
   },
   "outputs": [],
   "source": [
    "# @title Helper Functions\n",
    "\n",
    "n = 10\n",
    "stocks = {\n",
    "    f'Company {chr(65+i)}': {'Mean': np.around(np.random.uniform(0.9, 1.1), 2), 'Deviation': np.around(np.random.uniform(0.1, 0.3), 2)}\n",
    "    for i in range(n)\n",
    "}\n",
    "\n",
    "stocks = {\n",
    "    'Company A': {'Deviation': 0.17, 'Mean': 0.97},\n",
    "    'Company B': {'Deviation': 0.22, 'Mean': 0.92},\n",
    "    'Company C': {'Deviation': 0.28, 'Mean': 0.95},\n",
    "    'Company D': {'Deviation': 0.22, 'Mean': 1.04},\n",
    "    'Company E': {'Deviation': 0.23, 'Mean': 0.97},\n",
    "    'Company F': {'Deviation': 0.24, 'Mean': 1.08},\n",
    "    'Company G': {'Deviation': 0.27, 'Mean': 1.05},\n",
    "    'Company H': {'Deviation': 0.12, 'Mean': 1.01},\n",
    "    'Company I': {'Deviation': 0.24, 'Mean': 1.03},\n",
    "    'Company J': {'Deviation': 0.29, 'Mean': 0.95}\n",
    "}\n",
    "\n",
    "def portfolio_optimization(get_uncertainty_set, l, u):\n",
    "    p = np.array([stocks[s]['Mean'] for s in stocks])  # mean returns\n",
    "    delta = np.array([stocks[s]['Deviation'] for s in stocks])  # deviations of returns\n",
    "    Gamma = 5                               # budget of uncertainty\n",
    "\n",
    "    model = ro.Model()\n",
    "    x = model.dvar(n)                       # fractions of investment\n",
    "    z = model.rvar(n)                       # random variables\n",
    "\n",
    "    z_set = get_uncertainty_set(z, l, u)\n",
    "\n",
    "    model.maxmin(\n",
    "        (p + delta*z) @ x,                  # the max-min objective\n",
    "        z_set\n",
    "    )\n",
    "\n",
    "    model.st(sum(x) == 1)                   # summation of x is one\n",
    "    model.st(x >= 0)                        # x is non-negative\n",
    "\n",
    "    model.solve(grb)                        # solve the model by Gurobi\n",
    "    return model.get(), x.get()\n",
    "\n",
    "\n",
    "def get_uncertainty_set_po(z, l, u):\n",
    "    \"\"\"\n",
    "    Return a box uncertainty set\n",
    "    (see https://xiongpengnus.github.io/rsome/example_ro_inv).\n",
    "\n",
    "    Try different values for the size of the box.\n",
    "    \"\"\"\n",
    "    z_set = (\n",
    "        z <= u,\n",
    "        z >= l\n",
    "    )\n",
    "    return z_set\n",
    "\n",
    "def get_uncertainty_set_po_norm(z, l, u):\n",
    "    \"\"\"\n",
    "    Return a box uncertainty set\n",
    "    (see https://xiongpengnus.github.io/rsome/example_ro_inv).\n",
    "\n",
    "    Try different values for the size of the box.\n",
    "    \"\"\"\n",
    "    z_set = (\n",
    "        rso.norm(z, 1) <= u\n",
    "    )\n",
    "    return z_set"
   ]
  },
  {
   "cell_type": "code",
   "execution_count": 78,
   "metadata": {
    "colab": {
     "base_uri": "https://localhost:8080/",
     "height": 520
    },
    "id": "chNC1gOGVJxZ",
    "outputId": "eb44f575-fe4b-4cb2-b52c-97007329d41c"
   },
   "outputs": [
    {
     "name": "stdout",
     "output_type": "stream",
     "text": [
      "box:  [10, 20]\n",
      "Being solved by Gurobi...\n",
      "Solution status: 2\n",
      "Running time: 0.0000s\n",
      "Being solved by Gurobi...\n",
      "Solution status: 2\n",
      "Running time: 0.0000s\n"
     ]
    },
    {
     "data": {
      "image/png": "[encoded data removed]",
      "text/plain": [
       "<Figure size 640x480 with 1 Axes>"
      ]
     },
     "metadata": {},
     "output_type": "display_data"
    },
    {
     "name": "stdout",
     "output_type": "stream",
     "text": [
      "Objective value: 3.8500\n",
      "Being solved by Gurobi...\n",
      "Solution status: 2\n",
      "Running time: 0.0000s\n",
      "Being solved by Gurobi...\n",
      "Solution status: 2\n",
      "Running time: 0.0000s\n",
      "Being solved by Gurobi...\n",
      "Solution status: 2\n",
      "Running time: 0.0000s\n",
      "Being solved by Gurobi...\n",
      "Solution status: 2\n",
      "Running time: 0.0000s\n",
      "Being solved by Gurobi...\n",
      "Solution status: 2\n",
      "Running time: 0.0010s\n",
      "Being solved by Gurobi...\n",
      "Solution status: 2\n",
      "Running time: 0.0000s\n",
      "Being solved by Gurobi...\n",
      "Solution status: 2\n",
      "Running time: 0.0010s\n",
      "Being solved by Gurobi...\n",
      "Solution status: 2\n",
      "Running time: 0.0000s\n",
      "Total value medio: 3.85 +- 1.9721522630525295e-31\n",
      "\n",
      "\n",
      "box:  [1, 2]\n",
      "Being solved by Gurobi...\n",
      "Solution status: 2\n",
      "Running time: 0.0000s\n",
      "Being solved by Gurobi...\n",
      "Solution status: 2\n",
      "Running time: 0.0000s\n"
     ]
    },
    {
     "data": {
      "image/png": "[encoded data removed]",
      "text/plain": [
       "<Figure size 640x480 with 1 Axes>"
      ]
     },
     "metadata": {},
     "output_type": "display_data"
    },
    {
     "name": "stdout",
     "output_type": "stream",
     "text": [
      "Objective value: 1.3200\n",
      "Being solved by Gurobi...\n",
      "Solution status: 2\n",
      "Running time: 0.0000s\n",
      "Being solved by Gurobi...\n",
      "Solution status: 2\n",
      "Running time: 0.0020s\n",
      "Being solved by Gurobi...\n",
      "Solution status: 2\n",
      "Running time: 0.0010s\n",
      "Being solved by Gurobi...\n",
      "Solution status: 2\n",
      "Running time: 0.0010s\n",
      "Being solved by Gurobi...\n",
      "Solution status: 2\n",
      "Running time: 0.0000s\n",
      "Being solved by Gurobi...\n",
      "Solution status: 2\n",
      "Running time: 0.0000s\n",
      "Being solved by Gurobi...\n",
      "Solution status: 2\n",
      "Running time: 0.0000s\n",
      "Being solved by Gurobi...\n",
      "Solution status: 2\n",
      "Running time: 0.0000s\n",
      "Total value medio: 1.32 +- 0.0\n",
      "\n",
      "\n",
      "box:  [1e-05, 0.0001]\n",
      "Being solved by Gurobi...\n",
      "Solution status: 2\n",
      "Running time: 0.0000s\n",
      "Being solved by Gurobi...\n",
      "Solution status: 2\n",
      "Running time: 0.0000s\n"
     ]
    },
    {
     "data": {
      "image/png": "[encoded data removed]",
      "text/plain": [
       "<Figure size 640x480 with 1 Axes>"
      ]
     },
     "metadata": {},
     "output_type": "display_data"
    },
    {
     "name": "stdout",
     "output_type": "stream",
     "text": [
      "Objective value: 1.0800\n",
      "Being solved by Gurobi...\n",
      "Solution status: 2\n",
      "Running time: 0.0000s\n",
      "Being solved by Gurobi...\n",
      "Solution status: 2\n",
      "Running time: 0.0000s\n",
      "Being solved by Gurobi...\n",
      "Solution status: 2\n",
      "Running time: 0.0000s\n",
      "Being solved by Gurobi...\n",
      "Solution status: 2\n",
      "Running time: 0.0000s\n",
      "Being solved by Gurobi...\n",
      "Solution status: 2\n",
      "Running time: 0.0000s\n",
      "Being solved by Gurobi...\n",
      "Solution status: 2\n",
      "Running time: 0.0000s\n",
      "Being solved by Gurobi...\n",
      "Solution status: 2\n",
      "Running time: 0.0000s\n",
      "Being solved by Gurobi...\n",
      "Solution status: 2\n",
      "Running time: 0.0000s\n",
      "Total value medio: 1.0800024000000001 +- 0.0\n",
      "\n",
      "\n"
     ]
    }
   ],
   "source": [
    "\n",
    "for box in [[10, 20], [1,2], [0.00001,0.0001]]:\n",
    "    valori = []\n",
    "    print('box: ',box)\n",
    "\n",
    "    for k in range(10):\n",
    "        obj_val, x_sol = portfolio_optimization(get_uncertainty_set_po, box[0], box[1])\n",
    "        \n",
    "        if k == 1:\n",
    "            plt.bar(\n",
    "                [s.split(' ')[1] for s in stocks],  # Stock names\n",
    "                x_sol,                              # Fraction of the portfolio\n",
    "            )\n",
    "            plt.xlabel('Stocks')\n",
    "            plt.ylabel('Fraction of investment')\n",
    "            plt.show()\n",
    "            print('Objective value: {0:0.4f}'.format(obj_val))\n",
    "\n",
    "        valori.append(obj_val)\n",
    "    \n",
    "    print(f'Total value medio: {np.mean(valori)} +- {np.var(valori)}\\n\\n')\n",
    "\n",
    "    "
   ]
  },
  {
   "cell_type": "code",
   "execution_count": 79,
   "metadata": {
    "id": "9GHrYA6pVbCA"
   },
   "outputs": [
    {
     "name": "stdout",
     "output_type": "stream",
     "text": [
      "box:  [10, 20]\n",
      "Being solved by Gurobi...\n"
     ]
    },
    {
     "name": "stdout",
     "output_type": "stream",
     "text": [
      "Solution status: 2\n",
      "Running time: 0.0000s\n",
      "Being solved by Gurobi...\n",
      "Solution status: 2\n",
      "Running time: 0.0000s\n"
     ]
    },
    {
     "data": {
      "image/png": "[encoded data removed]",
      "text/plain": [
       "<Figure size 640x480 with 1 Axes>"
      ]
     },
     "metadata": {},
     "output_type": "display_data"
    },
    {
     "name": "stdout",
     "output_type": "stream",
     "text": [
      "Objective value: 0.5694\n",
      "Being solved by Gurobi...\n",
      "Solution status: 2\n",
      "Running time: 0.0000s\n",
      "Being solved by Gurobi...\n",
      "Solution status: 2\n",
      "Running time: 0.0010s\n",
      "Being solved by Gurobi...\n",
      "Solution status: 2\n",
      "Running time: 0.0000s\n",
      "Being solved by Gurobi...\n",
      "Solution status: 2\n",
      "Running time: 0.0000s\n",
      "Being solved by Gurobi...\n",
      "Solution status: 2\n",
      "Running time: 0.0000s\n",
      "Being solved by Gurobi...\n",
      "Solution status: 2\n",
      "Running time: 0.0000s\n",
      "Being solved by Gurobi...\n",
      "Solution status: 2\n",
      "Running time: 0.0000s\n",
      "Being solved by Gurobi...\n",
      "Solution status: 2\n",
      "Running time: 0.0000s\n",
      "Total value medio: 0.5694207623201641 +- 0.0\n",
      "\n",
      "\n",
      "box:  [1, 2]\n",
      "Being solved by Gurobi...\n",
      "Solution status: 2\n",
      "Running time: 0.0000s\n",
      "Being solved by Gurobi...\n",
      "Solution status: 2\n",
      "Running time: 0.0000s\n"
     ]
    },
    {
     "data": {
      "image/png": "[encoded data removed]",
      "text/plain": [
       "<Figure size 640x480 with 1 Axes>"
      ]
     },
     "metadata": {},
     "output_type": "display_data"
    },
    {
     "name": "stdout",
     "output_type": "stream",
     "text": [
      "Objective value: 0.9602\n",
      "Being solved by Gurobi...\n",
      "Solution status: 2\n",
      "Running time: 0.0000s\n",
      "Being solved by Gurobi...\n",
      "Solution status: 2\n",
      "Running time: 0.0000s\n",
      "Being solved by Gurobi...\n",
      "Solution status: 2\n",
      "Running time: 0.0000s\n",
      "Being solved by Gurobi...\n",
      "Solution status: 2\n",
      "Running time: 0.0000s\n",
      "Being solved by Gurobi...\n",
      "Solution status: 2\n",
      "Running time: 0.0020s\n",
      "Being solved by Gurobi...\n",
      "Solution status: 2\n",
      "Running time: 0.0000s\n",
      "Being solved by Gurobi...\n",
      "Solution status: 2\n",
      "Running time: 0.0000s\n",
      "Being solved by Gurobi...\n",
      "Solution status: 2\n",
      "Running time: 0.0000s\n",
      "Total value medio: 0.9602163779585435 +- 0.0\n",
      "\n",
      "\n",
      "box:  [1e-05, 0.0001]\n",
      "Being solved by Gurobi...\n",
      "Solution status: 2\n",
      "Running time: 0.0000s\n",
      "Being solved by Gurobi...\n",
      "Solution status: 2\n",
      "Running time: 0.0000s\n"
     ]
    },
    {
     "data": {
      "image/png": "[encoded data removed]",
      "text/plain": [
       "<Figure size 640x480 with 1 Axes>"
      ]
     },
     "metadata": {},
     "output_type": "display_data"
    },
    {
     "name": "stdout",
     "output_type": "stream",
     "text": [
      "Objective value: 1.0800\n",
      "Being solved by Gurobi...\n",
      "Solution status: 2\n",
      "Running time: 0.0000s\n",
      "Being solved by Gurobi...\n",
      "Solution status: 2\n",
      "Running time: 0.0000s\n",
      "Being solved by Gurobi...\n",
      "Solution status: 2\n",
      "Running time: 0.0000s\n",
      "Being solved by Gurobi...\n",
      "Solution status: 2\n",
      "Running time: 0.0000s\n",
      "Being solved by Gurobi...\n",
      "Solution status: 2\n",
      "Running time: 0.0000s\n",
      "Being solved by Gurobi...\n",
      "Solution status: 2\n",
      "Running time: 0.0010s\n",
      "Being solved by Gurobi...\n",
      "Solution status: 2\n",
      "Running time: 0.0000s\n",
      "Being solved by Gurobi...\n",
      "Solution status: 2\n",
      "Running time: 0.0000s\n",
      "Total value medio: 1.079976 +- 0.0\n",
      "\n",
      "\n"
     ]
    }
   ],
   "source": [
    "\n",
    "for box in [[10, 20], [1,2], [0.00001,0.0001]]:\n",
    "    valori = []\n",
    "    print('box: ',box)\n",
    "\n",
    "    for k in range(10):\n",
    "        obj_val, x_sol = portfolio_optimization(get_uncertainty_set_po_norm, box[0], box[1])\n",
    "        \n",
    "        if k == 1:\n",
    "            plt.bar(\n",
    "                [s.split(' ')[1] for s in stocks],  # Stock names\n",
    "                x_sol,                              # Fraction of the portfolio\n",
    "            )\n",
    "            plt.xlabel('Stocks')\n",
    "            plt.ylabel('Fraction of investment')\n",
    "            plt.show()\n",
    "            print('Objective value: {0:0.4f}'.format(obj_val))\n",
    "\n",
    "        valori.append(obj_val)\n",
    "    \n",
    "    print(f'Total value medio: {np.mean(valori)} +- {np.var(valori)}\\n\\n')"
   ]
  }
 ],
 "metadata": {
  "colab": {
   "collapsed_sections": [
    "yYejvJknRjtE",
    "UGFYrbZ6T45M",
    "IiO8U4xlT8T6",
    "TUFwE8lbUxVk",
    "dxmDzaODT2rr",
    "AY3agwqwU50v"
   ],
   "provenance": []
  },
  "kernelspec": {
   "display_name": "Python 3 (ipykernel)",
   "language": "python",
   "name": "python3"
  },
  "language_info": {
   "codemirror_mode": {
    "name": "ipython",
    "version": 3
   },
   "file_extension": ".py",
   "mimetype": "text/x-python",
   "name": "python",
   "nbconvert_exporter": "python",
   "pygments_lexer": "ipython3",
   "version": "3.11.7"
  }
 },
 "nbformat": 4,
 "nbformat_minor": 1
}
